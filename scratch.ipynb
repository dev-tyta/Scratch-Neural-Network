{
 "cells": [
  {
   "cell_type": "markdown",
   "id": "4c7913c6",
   "metadata": {},
   "source": [
    "### Data Preprocessing"
   ]
  },
  {
   "cell_type": "code",
   "execution_count": null,
   "id": "initial_id",
   "metadata": {
    "ExecuteTime": {
     "end_time": "2024-03-05T23:52:04.513851Z",
     "start_time": "2024-03-05T23:51:49.865545Z"
    },
    "collapsed": true
   },
   "outputs": [],
   "source": [
    "import pandas as pd\n",
    "import numpy as np\n",
    "import matplotlib.pyplot as plt\n",
    "import seaborn as sns\n",
    "import plotly.express as px\n",
    "\n",
    "\n",
    "# reading the csv file using pandas \n",
    "\n",
    "data = pd.read_csv('garments_worker_productivity.csv')\n"
   ]
  },
  {
   "cell_type": "code",
   "execution_count": null,
   "id": "420e6139d548777c",
   "metadata": {
    "ExecuteTime": {
     "end_time": "2024-03-05T23:52:04.701819Z",
     "start_time": "2024-03-05T23:52:04.517876Z"
    },
    "collapsed": false
   },
   "outputs": [],
   "source": [
    "data.head()"
   ]
  },
  {
   "cell_type": "code",
   "execution_count": null,
   "id": "e7a3bad9a973559d",
   "metadata": {
    "ExecuteTime": {
     "end_time": "2024-03-06T10:24:13.813753Z",
     "start_time": "2024-03-06T10:24:13.762410Z"
    },
    "collapsed": false
   },
   "outputs": [],
   "source": [
    "data.info()"
   ]
  },
  {
   "cell_type": "code",
   "execution_count": null,
   "id": "7e16ebfd20f00b9a",
   "metadata": {
    "ExecuteTime": {
     "end_time": "2024-03-06T10:24:18.694919Z",
     "start_time": "2024-03-06T10:24:18.627441Z"
    },
    "collapsed": false
   },
   "outputs": [],
   "source": [
    "data.describe()"
   ]
  },
  {
   "cell_type": "code",
   "execution_count": null,
   "id": "a63d0cbce98ece73",
   "metadata": {
    "ExecuteTime": {
     "end_time": "2024-03-06T10:24:21.081826Z",
     "start_time": "2024-03-06T10:24:21.037255Z"
    },
    "collapsed": false
   },
   "outputs": [],
   "source": [
    "data.isnull().sum()"
   ]
  },
  {
   "cell_type": "code",
   "execution_count": null,
   "id": "3819a3368c22cd68",
   "metadata": {
    "collapsed": false
   },
   "outputs": [],
   "source": [
    "# checking for missing values\n",
    "data.wip.isnull().sum()"
   ]
  },
  {
   "cell_type": "code",
   "execution_count": null,
   "id": "78b4439c",
   "metadata": {},
   "outputs": [],
   "source": [
    "# checking for duplicates\n",
    "data.duplicated().sum()"
   ]
  },
  {
   "cell_type": "markdown",
   "id": "cf7e1050",
   "metadata": {},
   "source": [
    "### Data Cleaning"
   ]
  },
  {
   "cell_type": "code",
   "execution_count": null,
   "id": "32866a66",
   "metadata": {},
   "outputs": [],
   "source": [
    "# removing the missing data from wip \n",
    "\n",
    "dropped_data = data.drop(labels=[\"wip\"], axis=1, inplace=False)"
   ]
  },
  {
   "cell_type": "code",
   "execution_count": null,
   "id": "cde03538",
   "metadata": {},
   "outputs": [],
   "source": [
    "dropped_data"
   ]
  },
  {
   "cell_type": "code",
   "execution_count": null,
   "id": "a00d3fab",
   "metadata": {},
   "outputs": [],
   "source": [
    "dropped_data.quarter.unique()"
   ]
  },
  {
   "cell_type": "code",
   "execution_count": null,
   "id": "433044d9",
   "metadata": {},
   "outputs": [],
   "source": [
    "dropped_data.department.unique()"
   ]
  },
  {
   "cell_type": "code",
   "execution_count": null,
   "id": "0decf3ca",
   "metadata": {},
   "outputs": [],
   "source": [
    "dropped_data.day.unique()"
   ]
  },
  {
   "cell_type": "markdown",
   "id": "39099d7d",
   "metadata": {},
   "source": [
    "### Handling Datetime Column"
   ]
  },
  {
   "cell_type": "code",
   "execution_count": null,
   "id": "f0b921cd",
   "metadata": {},
   "outputs": [],
   "source": [
    "df = pd.to_datetime(dropped_data[\"date\"])"
   ]
  },
  {
   "cell_type": "code",
   "execution_count": null,
   "id": "780709de",
   "metadata": {},
   "outputs": [],
   "source": [
    "dropped_data[\"year\"] = df.dt.year"
   ]
  },
  {
   "cell_type": "code",
   "execution_count": null,
   "id": "b8b8474c",
   "metadata": {},
   "outputs": [],
   "source": [
    "dropped_data[\"month\"] = df.dt.month"
   ]
  },
  {
   "cell_type": "code",
   "execution_count": null,
   "id": "7d05403d",
   "metadata": {},
   "outputs": [],
   "source": [
    "dropped_data[\"day\"] = df.dt.day"
   ]
  },
  {
   "cell_type": "code",
   "execution_count": null,
   "id": "831b656f",
   "metadata": {},
   "outputs": [],
   "source": [
    "dropped_data[\"weekday\"] = df.dt.weekday"
   ]
  },
  {
   "cell_type": "code",
   "execution_count": null,
   "id": "b5e957d7",
   "metadata": {},
   "outputs": [],
   "source": [
    "dropped_data.drop(labels=[\"date\"], axis=1, inplace=True)"
   ]
  },
  {
   "cell_type": "code",
   "execution_count": null,
   "id": "e29e416c",
   "metadata": {},
   "outputs": [],
   "source": [
    "dropped_data.info()"
   ]
  },
  {
   "cell_type": "code",
   "execution_count": null,
   "id": "fb461792",
   "metadata": {},
   "outputs": [],
   "source": [
    "dropped_data.head()"
   ]
  },
  {
   "cell_type": "markdown",
   "id": "ee39f8ab",
   "metadata": {},
   "source": [
    "### Sorting the Wrong Spelling Issue."
   ]
  },
  {
   "cell_type": "code",
   "execution_count": null,
   "id": "3df49be4",
   "metadata": {},
   "outputs": [],
   "source": [
    "dropped_data['department'] = dropped_data['department'].replace('sweing', 'sewing')\n",
    "dropped_data['department'] = dropped_data['department'].replace('finishing ', 'finishing')"
   ]
  },
  {
   "cell_type": "code",
   "execution_count": null,
   "id": "a988ced4",
   "metadata": {},
   "outputs": [],
   "source": [
    "dropped_data.department.unique()"
   ]
  },
  {
   "cell_type": "markdown",
   "id": "ef3f3d74",
   "metadata": {},
   "source": [
    "### Transforming Actual Productivity to two classes"
   ]
  },
  {
   "cell_type": "code",
   "execution_count": null,
   "id": "1dca9f8f",
   "metadata": {},
   "outputs": [],
   "source": [
    "dropped_data['actual_productivity_class'] = np.where(dropped_data['actual_productivity'] >= 0.80, 'Satifactory', 'Non-Satisfactory')\n"
   ]
  },
  {
   "cell_type": "code",
   "execution_count": null,
   "id": "98b27d64",
   "metadata": {},
   "outputs": [],
   "source": [
    "dropped_data.department.value_counts()"
   ]
  },
  {
   "cell_type": "code",
   "execution_count": null,
   "id": "a877df02",
   "metadata": {},
   "outputs": [],
   "source": [
    "dropped_data.head()"
   ]
  },
  {
   "cell_type": "markdown",
   "id": "4a1ed6ef",
   "metadata": {},
   "source": [
    "### Visualization of Data"
   ]
  },
  {
   "cell_type": "code",
   "execution_count": null,
   "id": "aeb8a225",
   "metadata": {},
   "outputs": [],
   "source": [
    "# Plotting a bar chart of the actual productivity by department\n",
    "plt.figure(figsize=(10, 6))\n",
    "sns.barplot(x='department', y='actual_productivity', data=dropped_data)\n",
    "plt.title('Actual Productivity by Department')\n",
    "plt.xlabel('Department')\n",
    "plt.ylabel('Actual Productivity')\n",
    "plt.show()\n"
   ]
  },
  {
   "cell_type": "code",
   "execution_count": null,
   "id": "5941b359",
   "metadata": {},
   "outputs": [],
   "source": [
    "sns.barplot(x='department', y='targeted_productivity', data=dropped_data)\n",
    "plt.title('Targeted Productivity by Department')\n",
    "plt.xlabel('Department')\n",
    "plt.ylabel('Targeted Productivity')\n",
    "plt.show()\n"
   ]
  },
  {
   "cell_type": "markdown",
   "id": "036ea54f",
   "metadata": {},
   "source": [
    "### Label Encoding"
   ]
  },
  {
   "cell_type": "code",
   "execution_count": null,
   "id": "afed2d07",
   "metadata": {},
   "outputs": [],
   "source": [
    "from sklearn.preprocessing import LabelEncoder\n",
    "from sklearn.preprocessing import Normalizer\n",
    "from sklearn.model_selection import train_test_split\n",
    "from sklearn.ensemble import RandomForestClassifier\n",
    "from sklearn.metrics import accuracy_score, f1_score\n",
    "from keras.models import Sequential, Model\n",
    "from keras.layers import Dense\n",
    "from keras.optimizers import SGD"
   ]
  },
  {
   "cell_type": "code",
   "execution_count": null,
   "id": "66585215",
   "metadata": {},
   "outputs": [],
   "source": [
    "encoder = LabelEncoder()"
   ]
  },
  {
   "cell_type": "code",
   "execution_count": null,
   "id": "d03d6423",
   "metadata": {},
   "outputs": [],
   "source": [
    "# checking for categorical columns\n",
    "obj_col = list(dropped_data.select_dtypes(include='object').columns)"
   ]
  },
  {
   "cell_type": "code",
   "execution_count": null,
   "id": "f1c5fdb0",
   "metadata": {},
   "outputs": [],
   "source": [
    "obj_col"
   ]
  },
  {
   "cell_type": "code",
   "execution_count": null,
   "id": "36a0ab51",
   "metadata": {},
   "outputs": [],
   "source": [
    "dropped_data[obj_col] = dropped_data[obj_col].apply(encoder.fit_transform)"
   ]
  },
  {
   "cell_type": "code",
   "execution_count": null,
   "id": "24b6cea3",
   "metadata": {},
   "outputs": [],
   "source": [
    "dropped_data.head()"
   ]
  },
  {
   "cell_type": "code",
   "execution_count": null,
   "id": "2726bca5",
   "metadata": {},
   "outputs": [],
   "source": [
    "dropped_data.info()"
   ]
  },
  {
   "cell_type": "code",
   "execution_count": null,
   "id": "1332b5cb",
   "metadata": {},
   "outputs": [],
   "source": [
    "norm = Normalizer()"
   ]
  },
  {
   "cell_type": "code",
   "execution_count": null,
   "id": "b8615c9d",
   "metadata": {},
   "outputs": [],
   "source": [
    "X =  dropped_data.drop(['actual_productivity_class'], axis=1)\n",
    "y = dropped_data[\"actual_productivity_class\"]"
   ]
  },
  {
   "cell_type": "code",
   "execution_count": null,
   "id": "cd4bc9d9",
   "metadata": {},
   "outputs": [],
   "source": []
  },
  {
   "cell_type": "code",
   "execution_count": null,
   "id": "3f4a2980",
   "metadata": {},
   "outputs": [],
   "source": [
    "X = norm.fit_transform(X)"
   ]
  },
  {
   "cell_type": "code",
   "execution_count": null,
   "id": "028b222d",
   "metadata": {},
   "outputs": [],
   "source": [
    "train, test = train_test_split(dropped_data, test_size=0.2, random_state=42)\n",
    "X_train, X_test, y_train, y_test= train_test_split(X, y, test_size=.2, random_state=42)"
   ]
  },
  {
   "cell_type": "code",
   "execution_count": null,
   "id": "865bab85",
   "metadata": {},
   "outputs": [],
   "source": [
    "y_test.shape"
   ]
  },
  {
   "cell_type": "markdown",
   "id": "a1f5bef8",
   "metadata": {},
   "source": [
    "### Model Training"
   ]
  },
  {
   "cell_type": "markdown",
   "id": "6c05ed47",
   "metadata": {},
   "source": [
    "#### Model Building with Scratch ANN"
   ]
  },
  {
   "cell_type": "code",
   "execution_count": null,
   "id": "9823d79a",
   "metadata": {},
   "outputs": [],
   "source": [
    "from activations import back_propagation, evaluate_algorithm"
   ]
  },
  {
   "cell_type": "code",
   "execution_count": null,
   "id": "17353705",
   "metadata": {},
   "outputs": [],
   "source": [
    "from model_new import NeuralNetwork, vectorized_result"
   ]
  },
  {
   "cell_type": "code",
   "execution_count": null,
   "id": "174ba96b",
   "metadata": {},
   "outputs": [],
   "source": [
    "y_train = [vectorized_result(i) for i in y_train]"
   ]
  },
  {
   "cell_type": "code",
   "execution_count": null,
   "id": "4cffce21",
   "metadata": {},
   "outputs": [],
   "source": [
    "n_inputs = X_train.shape[1]\n",
    "n_outputs = len(np.unique(y_train))\n",
    "n_neurons = 20\n",
    "\n",
    "\n",
    "network = NeuralNetwork([n_inputs, n_neurons, n_neurons])\n",
    "train_data = list(zip(X_train, y_train))\n",
    "network.fit(train_data, 30, 10, 3.0)"
   ]
  },
  {
   "cell_type": "code",
   "execution_count": null,
   "id": "5c2cd631",
   "metadata": {},
   "outputs": [],
   "source": [
    "len(np.unique(y_train))"
   ]
  },
  {
   "cell_type": "code",
   "execution_count": null,
   "id": "579ba508",
   "metadata": {},
   "outputs": [],
   "source": [
    "\n",
    "network = NeuralNetwork([16, 20, 2])\n",
    "train_data = list(zip(X_train, y_train))\n",
    "network.fit(train_data, 30, 5, 3.0)"
   ]
  },
  {
   "cell_type": "code",
   "execution_count": null,
   "id": "15ea42ca",
   "metadata": {},
   "outputs": [],
   "source": []
  },
  {
   "cell_type": "markdown",
   "id": "ec55c8e7",
   "metadata": {},
   "source": [
    "#### Model Building with Keras Model"
   ]
  },
  {
   "cell_type": "code",
   "execution_count": null,
   "id": "e4a3cd49",
   "metadata": {},
   "outputs": [],
   "source": [
    "model_keras = Sequential([\n",
    "    Dense(64, activation='relu', input_shape=(X_train.shape[1],)),\n",
    "    Dense(64, activation='relu'),\n",
    "    Dense(32, activation='relu'),\n",
    "    Dense(1, activation='sigmoid')\n",
    "])"
   ]
  },
  {
   "cell_type": "code",
   "execution_count": null,
   "id": "b37c8439",
   "metadata": {},
   "outputs": [],
   "source": [
    "model_keras.compile(optimizer='adam', loss='binary_crossentropy', metrics=['accuracy'])\n"
   ]
  },
  {
   "cell_type": "code",
   "execution_count": null,
   "id": "b4d62d36",
   "metadata": {},
   "outputs": [],
   "source": [
    "# Train the model\n",
    "model_keras.fit(X_train, y_train, epochs=100, batch_size=32, validation_split=0.2)\n"
   ]
  },
  {
   "cell_type": "code",
   "execution_count": null,
   "id": "6b94098c",
   "metadata": {},
   "outputs": [],
   "source": [
    "# Evaluate the model\n",
    "loss, accuracy = model_keras.evaluate(X_test, y_test)\n",
    "print(f\"Test Loss: {loss}\")\n",
    "print(f\"Test Accuracy: {accuracy}\")\n"
   ]
  },
  {
   "cell_type": "markdown",
   "id": "dada060c",
   "metadata": {},
   "source": [
    "##### Model tuning"
   ]
  },
  {
   "cell_type": "code",
   "execution_count": null,
   "id": "dddaa28d",
   "metadata": {},
   "outputs": [],
   "source": [
    "from keras.layers import Dropout, BatchNormalization\n",
    "from keras import regularizers"
   ]
  },
  {
   "cell_type": "code",
   "execution_count": null,
   "id": "9b8ef3f1",
   "metadata": {},
   "outputs": [],
   "source": [
    "model_tune = Sequential()\n",
    "model_tune.add(Dense(units=20, activation='relu', input_dim=X_train.shape[1]))\n",
    "model_tune.add(Dropout(0.5))\n",
    "model_tune.add(Dense(64, input_dim=64,\n",
    "                kernel_regularizer=regularizers.l1(0.01),\n",
    "                activity_regularizer=regularizers.l2(0.01)))\n",
    "model_tune.add(BatchNormalization())\n",
    "model_tune.add(Dense(units=1, activation='softmax'))"
   ]
  },
  {
   "cell_type": "code",
   "execution_count": null,
   "id": "51510280",
   "metadata": {},
   "outputs": [],
   "source": [
    "model_tune.compile(optimizer=SGD(learning_rate=0.1), loss='binary_crossentropy', metrics=['accuracy'])"
   ]
  },
  {
   "cell_type": "code",
   "execution_count": null,
   "id": "e8a9aff4",
   "metadata": {},
   "outputs": [],
   "source": [
    "model_tune.fit(X_train, y_train, epochs=10, batch_size=32, validation_data=(X_test, y_test))"
   ]
  },
  {
   "cell_type": "markdown",
   "id": "363b5d4c",
   "metadata": {},
   "source": [
    "#### Model Building with RandomForest"
   ]
  },
  {
   "cell_type": "code",
   "execution_count": null,
   "id": "64296686",
   "metadata": {},
   "outputs": [],
   "source": [
    "rf = RandomForestClassifier(n_estimators=100, random_state=42)"
   ]
  },
  {
   "cell_type": "code",
   "execution_count": null,
   "id": "f3237c4d",
   "metadata": {},
   "outputs": [],
   "source": [
    "rf.fit(X_train, y_train)\n"
   ]
  },
  {
   "cell_type": "code",
   "execution_count": null,
   "id": "0dae9747",
   "metadata": {},
   "outputs": [],
   "source": [
    "y_pred = rf.predict(X_test)"
   ]
  },
  {
   "cell_type": "code",
   "execution_count": null,
   "id": "7d1fa312",
   "metadata": {},
   "outputs": [],
   "source": [
    "f1_score(y_test, y_pred)"
   ]
  },
  {
   "cell_type": "code",
   "execution_count": null,
   "id": "648b451b",
   "metadata": {},
   "outputs": [],
   "source": [
    "accuracy_score(y_test, y_pred)"
   ]
  },
  {
   "cell_type": "code",
   "execution_count": null,
   "id": "770d1ff3",
   "metadata": {},
   "outputs": [],
   "source": []
  },
  {
   "cell_type": "markdown",
   "id": "9345135f",
   "metadata": {},
   "source": []
  }
 ],
 "metadata": {
  "kernelspec": {
   "display_name": "Python 3",
   "language": "python",
   "name": "python3"
  },
  "language_info": {
   "codemirror_mode": {
    "name": "ipython",
    "version": 3
   },
   "file_extension": ".py",
   "mimetype": "text/x-python",
   "name": "python",
   "nbconvert_exporter": "python",
   "pygments_lexer": "ipython3",
   "version": "3.11.5"
  }
 },
 "nbformat": 4,
 "nbformat_minor": 5
}
