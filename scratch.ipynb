{
 "cells": [
  {
   "cell_type": "markdown",
   "id": "1fea5f04",
   "metadata": {},
   "source": [
    "# Computational Intelligence"
   ]
  },
  {
   "cell_type": "markdown",
   "id": "4c7913c6",
   "metadata": {},
   "source": [
    "## Data Preprocessing"
   ]
  },
  {
   "cell_type": "markdown",
   "id": "f89298f1",
   "metadata": {},
   "source": [
    "### Data Loading and Wrangling"
   ]
  },
  {
   "cell_type": "code",
   "execution_count": 1,
   "id": "initial_id",
   "metadata": {
    "ExecuteTime": {
     "end_time": "2024-03-05T23:52:04.513851Z",
     "start_time": "2024-03-05T23:51:49.865545Z"
    },
    "collapsed": true
   },
   "outputs": [],
   "source": [
    "import pandas as pd\n",
    "import numpy as np\n",
    "import matplotlib.pyplot as plt\n",
    "import seaborn as sns\n",
    "import plotly.express as px\n",
    "\n",
    "\n",
    "# reading the csv file using pandas \n",
    "\n",
    "data = pd.read_csv('garments_worker_productivity.csv')\n"
   ]
  },
  {
   "cell_type": "code",
   "execution_count": 2,
   "id": "420e6139d548777c",
   "metadata": {
    "ExecuteTime": {
     "end_time": "2024-03-05T23:52:04.701819Z",
     "start_time": "2024-03-05T23:52:04.517876Z"
    },
    "collapsed": false
   },
   "outputs": [
    {
     "data": {
      "text/html": [
       "<div>\n",
       "<style scoped>\n",
       "    .dataframe tbody tr th:only-of-type {\n",
       "        vertical-align: middle;\n",
       "    }\n",
       "\n",
       "    .dataframe tbody tr th {\n",
       "        vertical-align: top;\n",
       "    }\n",
       "\n",
       "    .dataframe thead th {\n",
       "        text-align: right;\n",
       "    }\n",
       "</style>\n",
       "<table border=\"1\" class=\"dataframe\">\n",
       "  <thead>\n",
       "    <tr style=\"text-align: right;\">\n",
       "      <th></th>\n",
       "      <th>date</th>\n",
       "      <th>quarter</th>\n",
       "      <th>department</th>\n",
       "      <th>day</th>\n",
       "      <th>team</th>\n",
       "      <th>targeted_productivity</th>\n",
       "      <th>smv</th>\n",
       "      <th>wip</th>\n",
       "      <th>over_time</th>\n",
       "      <th>incentive</th>\n",
       "      <th>idle_time</th>\n",
       "      <th>idle_men</th>\n",
       "      <th>no_of_style_change</th>\n",
       "      <th>no_of_workers</th>\n",
       "      <th>actual_productivity</th>\n",
       "    </tr>\n",
       "  </thead>\n",
       "  <tbody>\n",
       "    <tr>\n",
       "      <th>0</th>\n",
       "      <td>1/1/2015</td>\n",
       "      <td>Quarter1</td>\n",
       "      <td>sweing</td>\n",
       "      <td>Thursday</td>\n",
       "      <td>8</td>\n",
       "      <td>0.80</td>\n",
       "      <td>26.16</td>\n",
       "      <td>1108.0</td>\n",
       "      <td>7080</td>\n",
       "      <td>98</td>\n",
       "      <td>0.0</td>\n",
       "      <td>0</td>\n",
       "      <td>0</td>\n",
       "      <td>59.0</td>\n",
       "      <td>0.940725</td>\n",
       "    </tr>\n",
       "    <tr>\n",
       "      <th>1</th>\n",
       "      <td>1/1/2015</td>\n",
       "      <td>Quarter1</td>\n",
       "      <td>finishing</td>\n",
       "      <td>Thursday</td>\n",
       "      <td>1</td>\n",
       "      <td>0.75</td>\n",
       "      <td>3.94</td>\n",
       "      <td>NaN</td>\n",
       "      <td>960</td>\n",
       "      <td>0</td>\n",
       "      <td>0.0</td>\n",
       "      <td>0</td>\n",
       "      <td>0</td>\n",
       "      <td>8.0</td>\n",
       "      <td>0.886500</td>\n",
       "    </tr>\n",
       "    <tr>\n",
       "      <th>2</th>\n",
       "      <td>1/1/2015</td>\n",
       "      <td>Quarter1</td>\n",
       "      <td>sweing</td>\n",
       "      <td>Thursday</td>\n",
       "      <td>11</td>\n",
       "      <td>0.80</td>\n",
       "      <td>11.41</td>\n",
       "      <td>968.0</td>\n",
       "      <td>3660</td>\n",
       "      <td>50</td>\n",
       "      <td>0.0</td>\n",
       "      <td>0</td>\n",
       "      <td>0</td>\n",
       "      <td>30.5</td>\n",
       "      <td>0.800570</td>\n",
       "    </tr>\n",
       "    <tr>\n",
       "      <th>3</th>\n",
       "      <td>1/1/2015</td>\n",
       "      <td>Quarter1</td>\n",
       "      <td>sweing</td>\n",
       "      <td>Thursday</td>\n",
       "      <td>12</td>\n",
       "      <td>0.80</td>\n",
       "      <td>11.41</td>\n",
       "      <td>968.0</td>\n",
       "      <td>3660</td>\n",
       "      <td>50</td>\n",
       "      <td>0.0</td>\n",
       "      <td>0</td>\n",
       "      <td>0</td>\n",
       "      <td>30.5</td>\n",
       "      <td>0.800570</td>\n",
       "    </tr>\n",
       "    <tr>\n",
       "      <th>4</th>\n",
       "      <td>1/1/2015</td>\n",
       "      <td>Quarter1</td>\n",
       "      <td>sweing</td>\n",
       "      <td>Thursday</td>\n",
       "      <td>6</td>\n",
       "      <td>0.80</td>\n",
       "      <td>25.90</td>\n",
       "      <td>1170.0</td>\n",
       "      <td>1920</td>\n",
       "      <td>50</td>\n",
       "      <td>0.0</td>\n",
       "      <td>0</td>\n",
       "      <td>0</td>\n",
       "      <td>56.0</td>\n",
       "      <td>0.800382</td>\n",
       "    </tr>\n",
       "  </tbody>\n",
       "</table>\n",
       "</div>"
      ],
      "text/plain": [
       "       date   quarter  department       day  team  targeted_productivity  \\\n",
       "0  1/1/2015  Quarter1      sweing  Thursday     8                   0.80   \n",
       "1  1/1/2015  Quarter1  finishing   Thursday     1                   0.75   \n",
       "2  1/1/2015  Quarter1      sweing  Thursday    11                   0.80   \n",
       "3  1/1/2015  Quarter1      sweing  Thursday    12                   0.80   \n",
       "4  1/1/2015  Quarter1      sweing  Thursday     6                   0.80   \n",
       "\n",
       "     smv     wip  over_time  incentive  idle_time  idle_men  \\\n",
       "0  26.16  1108.0       7080         98        0.0         0   \n",
       "1   3.94     NaN        960          0        0.0         0   \n",
       "2  11.41   968.0       3660         50        0.0         0   \n",
       "3  11.41   968.0       3660         50        0.0         0   \n",
       "4  25.90  1170.0       1920         50        0.0         0   \n",
       "\n",
       "   no_of_style_change  no_of_workers  actual_productivity  \n",
       "0                   0           59.0             0.940725  \n",
       "1                   0            8.0             0.886500  \n",
       "2                   0           30.5             0.800570  \n",
       "3                   0           30.5             0.800570  \n",
       "4                   0           56.0             0.800382  "
      ]
     },
     "execution_count": 2,
     "metadata": {},
     "output_type": "execute_result"
    }
   ],
   "source": [
    "data.head()"
   ]
  },
  {
   "cell_type": "code",
   "execution_count": 3,
   "id": "e7a3bad9a973559d",
   "metadata": {
    "ExecuteTime": {
     "end_time": "2024-03-06T10:24:13.813753Z",
     "start_time": "2024-03-06T10:24:13.762410Z"
    },
    "collapsed": false
   },
   "outputs": [
    {
     "name": "stdout",
     "output_type": "stream",
     "text": [
      "<class 'pandas.core.frame.DataFrame'>\n",
      "RangeIndex: 1197 entries, 0 to 1196\n",
      "Data columns (total 15 columns):\n",
      " #   Column                 Non-Null Count  Dtype  \n",
      "---  ------                 --------------  -----  \n",
      " 0   date                   1197 non-null   object \n",
      " 1   quarter                1197 non-null   object \n",
      " 2   department             1197 non-null   object \n",
      " 3   day                    1197 non-null   object \n",
      " 4   team                   1197 non-null   int64  \n",
      " 5   targeted_productivity  1197 non-null   float64\n",
      " 6   smv                    1197 non-null   float64\n",
      " 7   wip                    691 non-null    float64\n",
      " 8   over_time              1197 non-null   int64  \n",
      " 9   incentive              1197 non-null   int64  \n",
      " 10  idle_time              1197 non-null   float64\n",
      " 11  idle_men               1197 non-null   int64  \n",
      " 12  no_of_style_change     1197 non-null   int64  \n",
      " 13  no_of_workers          1197 non-null   float64\n",
      " 14  actual_productivity    1197 non-null   float64\n",
      "dtypes: float64(6), int64(5), object(4)\n",
      "memory usage: 140.4+ KB\n"
     ]
    }
   ],
   "source": [
    "data.info()"
   ]
  },
  {
   "cell_type": "code",
   "execution_count": 4,
   "id": "7e16ebfd20f00b9a",
   "metadata": {
    "ExecuteTime": {
     "end_time": "2024-03-06T10:24:18.694919Z",
     "start_time": "2024-03-06T10:24:18.627441Z"
    },
    "collapsed": false
   },
   "outputs": [
    {
     "data": {
      "text/html": [
       "<div>\n",
       "<style scoped>\n",
       "    .dataframe tbody tr th:only-of-type {\n",
       "        vertical-align: middle;\n",
       "    }\n",
       "\n",
       "    .dataframe tbody tr th {\n",
       "        vertical-align: top;\n",
       "    }\n",
       "\n",
       "    .dataframe thead th {\n",
       "        text-align: right;\n",
       "    }\n",
       "</style>\n",
       "<table border=\"1\" class=\"dataframe\">\n",
       "  <thead>\n",
       "    <tr style=\"text-align: right;\">\n",
       "      <th></th>\n",
       "      <th>team</th>\n",
       "      <th>targeted_productivity</th>\n",
       "      <th>smv</th>\n",
       "      <th>wip</th>\n",
       "      <th>over_time</th>\n",
       "      <th>incentive</th>\n",
       "      <th>idle_time</th>\n",
       "      <th>idle_men</th>\n",
       "      <th>no_of_style_change</th>\n",
       "      <th>no_of_workers</th>\n",
       "      <th>actual_productivity</th>\n",
       "    </tr>\n",
       "  </thead>\n",
       "  <tbody>\n",
       "    <tr>\n",
       "      <th>count</th>\n",
       "      <td>1197.000000</td>\n",
       "      <td>1197.000000</td>\n",
       "      <td>1197.000000</td>\n",
       "      <td>691.000000</td>\n",
       "      <td>1197.000000</td>\n",
       "      <td>1197.000000</td>\n",
       "      <td>1197.000000</td>\n",
       "      <td>1197.000000</td>\n",
       "      <td>1197.000000</td>\n",
       "      <td>1197.000000</td>\n",
       "      <td>1197.000000</td>\n",
       "    </tr>\n",
       "    <tr>\n",
       "      <th>mean</th>\n",
       "      <td>6.426901</td>\n",
       "      <td>0.729632</td>\n",
       "      <td>15.062172</td>\n",
       "      <td>1190.465991</td>\n",
       "      <td>4567.460317</td>\n",
       "      <td>38.210526</td>\n",
       "      <td>0.730159</td>\n",
       "      <td>0.369256</td>\n",
       "      <td>0.150376</td>\n",
       "      <td>34.609858</td>\n",
       "      <td>0.735091</td>\n",
       "    </tr>\n",
       "    <tr>\n",
       "      <th>std</th>\n",
       "      <td>3.463963</td>\n",
       "      <td>0.097891</td>\n",
       "      <td>10.943219</td>\n",
       "      <td>1837.455001</td>\n",
       "      <td>3348.823563</td>\n",
       "      <td>160.182643</td>\n",
       "      <td>12.709757</td>\n",
       "      <td>3.268987</td>\n",
       "      <td>0.427848</td>\n",
       "      <td>22.197687</td>\n",
       "      <td>0.174488</td>\n",
       "    </tr>\n",
       "    <tr>\n",
       "      <th>min</th>\n",
       "      <td>1.000000</td>\n",
       "      <td>0.070000</td>\n",
       "      <td>2.900000</td>\n",
       "      <td>7.000000</td>\n",
       "      <td>0.000000</td>\n",
       "      <td>0.000000</td>\n",
       "      <td>0.000000</td>\n",
       "      <td>0.000000</td>\n",
       "      <td>0.000000</td>\n",
       "      <td>2.000000</td>\n",
       "      <td>0.233705</td>\n",
       "    </tr>\n",
       "    <tr>\n",
       "      <th>25%</th>\n",
       "      <td>3.000000</td>\n",
       "      <td>0.700000</td>\n",
       "      <td>3.940000</td>\n",
       "      <td>774.500000</td>\n",
       "      <td>1440.000000</td>\n",
       "      <td>0.000000</td>\n",
       "      <td>0.000000</td>\n",
       "      <td>0.000000</td>\n",
       "      <td>0.000000</td>\n",
       "      <td>9.000000</td>\n",
       "      <td>0.650307</td>\n",
       "    </tr>\n",
       "    <tr>\n",
       "      <th>50%</th>\n",
       "      <td>6.000000</td>\n",
       "      <td>0.750000</td>\n",
       "      <td>15.260000</td>\n",
       "      <td>1039.000000</td>\n",
       "      <td>3960.000000</td>\n",
       "      <td>0.000000</td>\n",
       "      <td>0.000000</td>\n",
       "      <td>0.000000</td>\n",
       "      <td>0.000000</td>\n",
       "      <td>34.000000</td>\n",
       "      <td>0.773333</td>\n",
       "    </tr>\n",
       "    <tr>\n",
       "      <th>75%</th>\n",
       "      <td>9.000000</td>\n",
       "      <td>0.800000</td>\n",
       "      <td>24.260000</td>\n",
       "      <td>1252.500000</td>\n",
       "      <td>6960.000000</td>\n",
       "      <td>50.000000</td>\n",
       "      <td>0.000000</td>\n",
       "      <td>0.000000</td>\n",
       "      <td>0.000000</td>\n",
       "      <td>57.000000</td>\n",
       "      <td>0.850253</td>\n",
       "    </tr>\n",
       "    <tr>\n",
       "      <th>max</th>\n",
       "      <td>12.000000</td>\n",
       "      <td>0.800000</td>\n",
       "      <td>54.560000</td>\n",
       "      <td>23122.000000</td>\n",
       "      <td>25920.000000</td>\n",
       "      <td>3600.000000</td>\n",
       "      <td>300.000000</td>\n",
       "      <td>45.000000</td>\n",
       "      <td>2.000000</td>\n",
       "      <td>89.000000</td>\n",
       "      <td>1.120437</td>\n",
       "    </tr>\n",
       "  </tbody>\n",
       "</table>\n",
       "</div>"
      ],
      "text/plain": [
       "              team  targeted_productivity          smv           wip  \\\n",
       "count  1197.000000            1197.000000  1197.000000    691.000000   \n",
       "mean      6.426901               0.729632    15.062172   1190.465991   \n",
       "std       3.463963               0.097891    10.943219   1837.455001   \n",
       "min       1.000000               0.070000     2.900000      7.000000   \n",
       "25%       3.000000               0.700000     3.940000    774.500000   \n",
       "50%       6.000000               0.750000    15.260000   1039.000000   \n",
       "75%       9.000000               0.800000    24.260000   1252.500000   \n",
       "max      12.000000               0.800000    54.560000  23122.000000   \n",
       "\n",
       "          over_time    incentive    idle_time     idle_men  \\\n",
       "count   1197.000000  1197.000000  1197.000000  1197.000000   \n",
       "mean    4567.460317    38.210526     0.730159     0.369256   \n",
       "std     3348.823563   160.182643    12.709757     3.268987   \n",
       "min        0.000000     0.000000     0.000000     0.000000   \n",
       "25%     1440.000000     0.000000     0.000000     0.000000   \n",
       "50%     3960.000000     0.000000     0.000000     0.000000   \n",
       "75%     6960.000000    50.000000     0.000000     0.000000   \n",
       "max    25920.000000  3600.000000   300.000000    45.000000   \n",
       "\n",
       "       no_of_style_change  no_of_workers  actual_productivity  \n",
       "count         1197.000000    1197.000000          1197.000000  \n",
       "mean             0.150376      34.609858             0.735091  \n",
       "std              0.427848      22.197687             0.174488  \n",
       "min              0.000000       2.000000             0.233705  \n",
       "25%              0.000000       9.000000             0.650307  \n",
       "50%              0.000000      34.000000             0.773333  \n",
       "75%              0.000000      57.000000             0.850253  \n",
       "max              2.000000      89.000000             1.120437  "
      ]
     },
     "execution_count": 4,
     "metadata": {},
     "output_type": "execute_result"
    }
   ],
   "source": [
    "data.describe()"
   ]
  },
  {
   "cell_type": "code",
   "execution_count": 5,
   "id": "a63d0cbce98ece73",
   "metadata": {
    "ExecuteTime": {
     "end_time": "2024-03-06T10:24:21.081826Z",
     "start_time": "2024-03-06T10:24:21.037255Z"
    },
    "collapsed": false
   },
   "outputs": [
    {
     "data": {
      "text/plain": [
       "date                       0\n",
       "quarter                    0\n",
       "department                 0\n",
       "day                        0\n",
       "team                       0\n",
       "targeted_productivity      0\n",
       "smv                        0\n",
       "wip                      506\n",
       "over_time                  0\n",
       "incentive                  0\n",
       "idle_time                  0\n",
       "idle_men                   0\n",
       "no_of_style_change         0\n",
       "no_of_workers              0\n",
       "actual_productivity        0\n",
       "dtype: int64"
      ]
     },
     "execution_count": 5,
     "metadata": {},
     "output_type": "execute_result"
    }
   ],
   "source": [
    "data.isnull().sum()"
   ]
  },
  {
   "cell_type": "code",
   "execution_count": 6,
   "id": "3819a3368c22cd68",
   "metadata": {
    "collapsed": false
   },
   "outputs": [
    {
     "data": {
      "text/plain": [
       "506"
      ]
     },
     "execution_count": 6,
     "metadata": {},
     "output_type": "execute_result"
    }
   ],
   "source": [
    "# checking for missing values\n",
    "data.wip.isnull().sum()"
   ]
  },
  {
   "cell_type": "code",
   "execution_count": 7,
   "id": "78b4439c",
   "metadata": {},
   "outputs": [
    {
     "data": {
      "text/plain": [
       "0"
      ]
     },
     "execution_count": 7,
     "metadata": {},
     "output_type": "execute_result"
    }
   ],
   "source": [
    "# checking for duplicates\n",
    "data.duplicated().sum()"
   ]
  },
  {
   "cell_type": "markdown",
   "id": "cf7e1050",
   "metadata": {},
   "source": [
    "### Data Cleaning"
   ]
  },
  {
   "cell_type": "code",
   "execution_count": 8,
   "id": "32866a66",
   "metadata": {},
   "outputs": [],
   "source": [
    "# removing the missing data from wip \n",
    "\n",
    "dropped_data = data.drop(labels=[\"wip\"], axis=1, inplace=False)"
   ]
  },
  {
   "cell_type": "code",
   "execution_count": 9,
   "id": "cde03538",
   "metadata": {},
   "outputs": [
    {
     "data": {
      "text/html": [
       "<div>\n",
       "<style scoped>\n",
       "    .dataframe tbody tr th:only-of-type {\n",
       "        vertical-align: middle;\n",
       "    }\n",
       "\n",
       "    .dataframe tbody tr th {\n",
       "        vertical-align: top;\n",
       "    }\n",
       "\n",
       "    .dataframe thead th {\n",
       "        text-align: right;\n",
       "    }\n",
       "</style>\n",
       "<table border=\"1\" class=\"dataframe\">\n",
       "  <thead>\n",
       "    <tr style=\"text-align: right;\">\n",
       "      <th></th>\n",
       "      <th>date</th>\n",
       "      <th>quarter</th>\n",
       "      <th>department</th>\n",
       "      <th>day</th>\n",
       "      <th>team</th>\n",
       "      <th>targeted_productivity</th>\n",
       "      <th>smv</th>\n",
       "      <th>over_time</th>\n",
       "      <th>incentive</th>\n",
       "      <th>idle_time</th>\n",
       "      <th>idle_men</th>\n",
       "      <th>no_of_style_change</th>\n",
       "      <th>no_of_workers</th>\n",
       "      <th>actual_productivity</th>\n",
       "    </tr>\n",
       "  </thead>\n",
       "  <tbody>\n",
       "    <tr>\n",
       "      <th>0</th>\n",
       "      <td>1/1/2015</td>\n",
       "      <td>Quarter1</td>\n",
       "      <td>sweing</td>\n",
       "      <td>Thursday</td>\n",
       "      <td>8</td>\n",
       "      <td>0.80</td>\n",
       "      <td>26.16</td>\n",
       "      <td>7080</td>\n",
       "      <td>98</td>\n",
       "      <td>0.0</td>\n",
       "      <td>0</td>\n",
       "      <td>0</td>\n",
       "      <td>59.0</td>\n",
       "      <td>0.940725</td>\n",
       "    </tr>\n",
       "    <tr>\n",
       "      <th>1</th>\n",
       "      <td>1/1/2015</td>\n",
       "      <td>Quarter1</td>\n",
       "      <td>finishing</td>\n",
       "      <td>Thursday</td>\n",
       "      <td>1</td>\n",
       "      <td>0.75</td>\n",
       "      <td>3.94</td>\n",
       "      <td>960</td>\n",
       "      <td>0</td>\n",
       "      <td>0.0</td>\n",
       "      <td>0</td>\n",
       "      <td>0</td>\n",
       "      <td>8.0</td>\n",
       "      <td>0.886500</td>\n",
       "    </tr>\n",
       "    <tr>\n",
       "      <th>2</th>\n",
       "      <td>1/1/2015</td>\n",
       "      <td>Quarter1</td>\n",
       "      <td>sweing</td>\n",
       "      <td>Thursday</td>\n",
       "      <td>11</td>\n",
       "      <td>0.80</td>\n",
       "      <td>11.41</td>\n",
       "      <td>3660</td>\n",
       "      <td>50</td>\n",
       "      <td>0.0</td>\n",
       "      <td>0</td>\n",
       "      <td>0</td>\n",
       "      <td>30.5</td>\n",
       "      <td>0.800570</td>\n",
       "    </tr>\n",
       "    <tr>\n",
       "      <th>3</th>\n",
       "      <td>1/1/2015</td>\n",
       "      <td>Quarter1</td>\n",
       "      <td>sweing</td>\n",
       "      <td>Thursday</td>\n",
       "      <td>12</td>\n",
       "      <td>0.80</td>\n",
       "      <td>11.41</td>\n",
       "      <td>3660</td>\n",
       "      <td>50</td>\n",
       "      <td>0.0</td>\n",
       "      <td>0</td>\n",
       "      <td>0</td>\n",
       "      <td>30.5</td>\n",
       "      <td>0.800570</td>\n",
       "    </tr>\n",
       "    <tr>\n",
       "      <th>4</th>\n",
       "      <td>1/1/2015</td>\n",
       "      <td>Quarter1</td>\n",
       "      <td>sweing</td>\n",
       "      <td>Thursday</td>\n",
       "      <td>6</td>\n",
       "      <td>0.80</td>\n",
       "      <td>25.90</td>\n",
       "      <td>1920</td>\n",
       "      <td>50</td>\n",
       "      <td>0.0</td>\n",
       "      <td>0</td>\n",
       "      <td>0</td>\n",
       "      <td>56.0</td>\n",
       "      <td>0.800382</td>\n",
       "    </tr>\n",
       "    <tr>\n",
       "      <th>...</th>\n",
       "      <td>...</td>\n",
       "      <td>...</td>\n",
       "      <td>...</td>\n",
       "      <td>...</td>\n",
       "      <td>...</td>\n",
       "      <td>...</td>\n",
       "      <td>...</td>\n",
       "      <td>...</td>\n",
       "      <td>...</td>\n",
       "      <td>...</td>\n",
       "      <td>...</td>\n",
       "      <td>...</td>\n",
       "      <td>...</td>\n",
       "      <td>...</td>\n",
       "    </tr>\n",
       "    <tr>\n",
       "      <th>1192</th>\n",
       "      <td>3/11/2015</td>\n",
       "      <td>Quarter2</td>\n",
       "      <td>finishing</td>\n",
       "      <td>Wednesday</td>\n",
       "      <td>10</td>\n",
       "      <td>0.75</td>\n",
       "      <td>2.90</td>\n",
       "      <td>960</td>\n",
       "      <td>0</td>\n",
       "      <td>0.0</td>\n",
       "      <td>0</td>\n",
       "      <td>0</td>\n",
       "      <td>8.0</td>\n",
       "      <td>0.628333</td>\n",
       "    </tr>\n",
       "    <tr>\n",
       "      <th>1193</th>\n",
       "      <td>3/11/2015</td>\n",
       "      <td>Quarter2</td>\n",
       "      <td>finishing</td>\n",
       "      <td>Wednesday</td>\n",
       "      <td>8</td>\n",
       "      <td>0.70</td>\n",
       "      <td>3.90</td>\n",
       "      <td>960</td>\n",
       "      <td>0</td>\n",
       "      <td>0.0</td>\n",
       "      <td>0</td>\n",
       "      <td>0</td>\n",
       "      <td>8.0</td>\n",
       "      <td>0.625625</td>\n",
       "    </tr>\n",
       "    <tr>\n",
       "      <th>1194</th>\n",
       "      <td>3/11/2015</td>\n",
       "      <td>Quarter2</td>\n",
       "      <td>finishing</td>\n",
       "      <td>Wednesday</td>\n",
       "      <td>7</td>\n",
       "      <td>0.65</td>\n",
       "      <td>3.90</td>\n",
       "      <td>960</td>\n",
       "      <td>0</td>\n",
       "      <td>0.0</td>\n",
       "      <td>0</td>\n",
       "      <td>0</td>\n",
       "      <td>8.0</td>\n",
       "      <td>0.625625</td>\n",
       "    </tr>\n",
       "    <tr>\n",
       "      <th>1195</th>\n",
       "      <td>3/11/2015</td>\n",
       "      <td>Quarter2</td>\n",
       "      <td>finishing</td>\n",
       "      <td>Wednesday</td>\n",
       "      <td>9</td>\n",
       "      <td>0.75</td>\n",
       "      <td>2.90</td>\n",
       "      <td>1800</td>\n",
       "      <td>0</td>\n",
       "      <td>0.0</td>\n",
       "      <td>0</td>\n",
       "      <td>0</td>\n",
       "      <td>15.0</td>\n",
       "      <td>0.505889</td>\n",
       "    </tr>\n",
       "    <tr>\n",
       "      <th>1196</th>\n",
       "      <td>3/11/2015</td>\n",
       "      <td>Quarter2</td>\n",
       "      <td>finishing</td>\n",
       "      <td>Wednesday</td>\n",
       "      <td>6</td>\n",
       "      <td>0.70</td>\n",
       "      <td>2.90</td>\n",
       "      <td>720</td>\n",
       "      <td>0</td>\n",
       "      <td>0.0</td>\n",
       "      <td>0</td>\n",
       "      <td>0</td>\n",
       "      <td>6.0</td>\n",
       "      <td>0.394722</td>\n",
       "    </tr>\n",
       "  </tbody>\n",
       "</table>\n",
       "<p>1197 rows × 14 columns</p>\n",
       "</div>"
      ],
      "text/plain": [
       "           date   quarter  department        day  team  targeted_productivity  \\\n",
       "0      1/1/2015  Quarter1      sweing   Thursday     8                   0.80   \n",
       "1      1/1/2015  Quarter1  finishing    Thursday     1                   0.75   \n",
       "2      1/1/2015  Quarter1      sweing   Thursday    11                   0.80   \n",
       "3      1/1/2015  Quarter1      sweing   Thursday    12                   0.80   \n",
       "4      1/1/2015  Quarter1      sweing   Thursday     6                   0.80   \n",
       "...         ...       ...         ...        ...   ...                    ...   \n",
       "1192  3/11/2015  Quarter2   finishing  Wednesday    10                   0.75   \n",
       "1193  3/11/2015  Quarter2   finishing  Wednesday     8                   0.70   \n",
       "1194  3/11/2015  Quarter2   finishing  Wednesday     7                   0.65   \n",
       "1195  3/11/2015  Quarter2   finishing  Wednesday     9                   0.75   \n",
       "1196  3/11/2015  Quarter2   finishing  Wednesday     6                   0.70   \n",
       "\n",
       "        smv  over_time  incentive  idle_time  idle_men  no_of_style_change  \\\n",
       "0     26.16       7080         98        0.0         0                   0   \n",
       "1      3.94        960          0        0.0         0                   0   \n",
       "2     11.41       3660         50        0.0         0                   0   \n",
       "3     11.41       3660         50        0.0         0                   0   \n",
       "4     25.90       1920         50        0.0         0                   0   \n",
       "...     ...        ...        ...        ...       ...                 ...   \n",
       "1192   2.90        960          0        0.0         0                   0   \n",
       "1193   3.90        960          0        0.0         0                   0   \n",
       "1194   3.90        960          0        0.0         0                   0   \n",
       "1195   2.90       1800          0        0.0         0                   0   \n",
       "1196   2.90        720          0        0.0         0                   0   \n",
       "\n",
       "      no_of_workers  actual_productivity  \n",
       "0              59.0             0.940725  \n",
       "1               8.0             0.886500  \n",
       "2              30.5             0.800570  \n",
       "3              30.5             0.800570  \n",
       "4              56.0             0.800382  \n",
       "...             ...                  ...  \n",
       "1192            8.0             0.628333  \n",
       "1193            8.0             0.625625  \n",
       "1194            8.0             0.625625  \n",
       "1195           15.0             0.505889  \n",
       "1196            6.0             0.394722  \n",
       "\n",
       "[1197 rows x 14 columns]"
      ]
     },
     "execution_count": 9,
     "metadata": {},
     "output_type": "execute_result"
    }
   ],
   "source": [
    "dropped_data"
   ]
  },
  {
   "cell_type": "code",
   "execution_count": 10,
   "id": "a00d3fab",
   "metadata": {},
   "outputs": [
    {
     "data": {
      "text/plain": [
       "array(['Quarter1', 'Quarter2', 'Quarter3', 'Quarter4', 'Quarter5'],\n",
       "      dtype=object)"
      ]
     },
     "execution_count": 10,
     "metadata": {},
     "output_type": "execute_result"
    }
   ],
   "source": [
    "dropped_data.quarter.unique()"
   ]
  },
  {
   "cell_type": "code",
   "execution_count": 11,
   "id": "433044d9",
   "metadata": {},
   "outputs": [
    {
     "data": {
      "text/plain": [
       "array(['sweing', 'finishing ', 'finishing'], dtype=object)"
      ]
     },
     "execution_count": 11,
     "metadata": {},
     "output_type": "execute_result"
    }
   ],
   "source": [
    "dropped_data.department.unique()"
   ]
  },
  {
   "cell_type": "code",
   "execution_count": 12,
   "id": "0decf3ca",
   "metadata": {},
   "outputs": [
    {
     "data": {
      "text/plain": [
       "array(['Thursday', 'Saturday', 'Sunday', 'Monday', 'Tuesday', 'Wednesday'],\n",
       "      dtype=object)"
      ]
     },
     "execution_count": 12,
     "metadata": {},
     "output_type": "execute_result"
    }
   ],
   "source": [
    "dropped_data.day.unique()"
   ]
  },
  {
   "cell_type": "markdown",
   "id": "39099d7d",
   "metadata": {},
   "source": [
    "### Handling Datetime Column"
   ]
  },
  {
   "cell_type": "code",
   "execution_count": 13,
   "id": "f0b921cd",
   "metadata": {},
   "outputs": [],
   "source": [
    "df = pd.to_datetime(dropped_data[\"date\"])"
   ]
  },
  {
   "cell_type": "code",
   "execution_count": 14,
   "id": "780709de",
   "metadata": {},
   "outputs": [],
   "source": [
    "dropped_data[\"year\"] = df.dt.year"
   ]
  },
  {
   "cell_type": "code",
   "execution_count": 15,
   "id": "b8b8474c",
   "metadata": {},
   "outputs": [],
   "source": [
    "dropped_data[\"month\"] = df.dt.month"
   ]
  },
  {
   "cell_type": "code",
   "execution_count": 16,
   "id": "7d05403d",
   "metadata": {},
   "outputs": [],
   "source": [
    "dropped_data[\"day\"] = df.dt.day"
   ]
  },
  {
   "cell_type": "code",
   "execution_count": 17,
   "id": "831b656f",
   "metadata": {},
   "outputs": [],
   "source": [
    "dropped_data[\"weekday\"] = df.dt.weekday"
   ]
  },
  {
   "cell_type": "code",
   "execution_count": 18,
   "id": "b5e957d7",
   "metadata": {},
   "outputs": [],
   "source": [
    "dropped_data.drop(labels=[\"date\"], axis=1, inplace=True)"
   ]
  },
  {
   "cell_type": "code",
   "execution_count": 19,
   "id": "e29e416c",
   "metadata": {},
   "outputs": [
    {
     "name": "stdout",
     "output_type": "stream",
     "text": [
      "<class 'pandas.core.frame.DataFrame'>\n",
      "RangeIndex: 1197 entries, 0 to 1196\n",
      "Data columns (total 16 columns):\n",
      " #   Column                 Non-Null Count  Dtype  \n",
      "---  ------                 --------------  -----  \n",
      " 0   quarter                1197 non-null   object \n",
      " 1   department             1197 non-null   object \n",
      " 2   day                    1197 non-null   int32  \n",
      " 3   team                   1197 non-null   int64  \n",
      " 4   targeted_productivity  1197 non-null   float64\n",
      " 5   smv                    1197 non-null   float64\n",
      " 6   over_time              1197 non-null   int64  \n",
      " 7   incentive              1197 non-null   int64  \n",
      " 8   idle_time              1197 non-null   float64\n",
      " 9   idle_men               1197 non-null   int64  \n",
      " 10  no_of_style_change     1197 non-null   int64  \n",
      " 11  no_of_workers          1197 non-null   float64\n",
      " 12  actual_productivity    1197 non-null   float64\n",
      " 13  year                   1197 non-null   int32  \n",
      " 14  month                  1197 non-null   int32  \n",
      " 15  weekday                1197 non-null   int32  \n",
      "dtypes: float64(5), int32(4), int64(5), object(2)\n",
      "memory usage: 131.1+ KB\n"
     ]
    }
   ],
   "source": [
    "dropped_data.info()"
   ]
  },
  {
   "cell_type": "code",
   "execution_count": 20,
   "id": "fb461792",
   "metadata": {},
   "outputs": [
    {
     "data": {
      "text/html": [
       "<div>\n",
       "<style scoped>\n",
       "    .dataframe tbody tr th:only-of-type {\n",
       "        vertical-align: middle;\n",
       "    }\n",
       "\n",
       "    .dataframe tbody tr th {\n",
       "        vertical-align: top;\n",
       "    }\n",
       "\n",
       "    .dataframe thead th {\n",
       "        text-align: right;\n",
       "    }\n",
       "</style>\n",
       "<table border=\"1\" class=\"dataframe\">\n",
       "  <thead>\n",
       "    <tr style=\"text-align: right;\">\n",
       "      <th></th>\n",
       "      <th>quarter</th>\n",
       "      <th>department</th>\n",
       "      <th>day</th>\n",
       "      <th>team</th>\n",
       "      <th>targeted_productivity</th>\n",
       "      <th>smv</th>\n",
       "      <th>over_time</th>\n",
       "      <th>incentive</th>\n",
       "      <th>idle_time</th>\n",
       "      <th>idle_men</th>\n",
       "      <th>no_of_style_change</th>\n",
       "      <th>no_of_workers</th>\n",
       "      <th>actual_productivity</th>\n",
       "      <th>year</th>\n",
       "      <th>month</th>\n",
       "      <th>weekday</th>\n",
       "    </tr>\n",
       "  </thead>\n",
       "  <tbody>\n",
       "    <tr>\n",
       "      <th>0</th>\n",
       "      <td>Quarter1</td>\n",
       "      <td>sweing</td>\n",
       "      <td>1</td>\n",
       "      <td>8</td>\n",
       "      <td>0.80</td>\n",
       "      <td>26.16</td>\n",
       "      <td>7080</td>\n",
       "      <td>98</td>\n",
       "      <td>0.0</td>\n",
       "      <td>0</td>\n",
       "      <td>0</td>\n",
       "      <td>59.0</td>\n",
       "      <td>0.940725</td>\n",
       "      <td>2015</td>\n",
       "      <td>1</td>\n",
       "      <td>3</td>\n",
       "    </tr>\n",
       "    <tr>\n",
       "      <th>1</th>\n",
       "      <td>Quarter1</td>\n",
       "      <td>finishing</td>\n",
       "      <td>1</td>\n",
       "      <td>1</td>\n",
       "      <td>0.75</td>\n",
       "      <td>3.94</td>\n",
       "      <td>960</td>\n",
       "      <td>0</td>\n",
       "      <td>0.0</td>\n",
       "      <td>0</td>\n",
       "      <td>0</td>\n",
       "      <td>8.0</td>\n",
       "      <td>0.886500</td>\n",
       "      <td>2015</td>\n",
       "      <td>1</td>\n",
       "      <td>3</td>\n",
       "    </tr>\n",
       "    <tr>\n",
       "      <th>2</th>\n",
       "      <td>Quarter1</td>\n",
       "      <td>sweing</td>\n",
       "      <td>1</td>\n",
       "      <td>11</td>\n",
       "      <td>0.80</td>\n",
       "      <td>11.41</td>\n",
       "      <td>3660</td>\n",
       "      <td>50</td>\n",
       "      <td>0.0</td>\n",
       "      <td>0</td>\n",
       "      <td>0</td>\n",
       "      <td>30.5</td>\n",
       "      <td>0.800570</td>\n",
       "      <td>2015</td>\n",
       "      <td>1</td>\n",
       "      <td>3</td>\n",
       "    </tr>\n",
       "    <tr>\n",
       "      <th>3</th>\n",
       "      <td>Quarter1</td>\n",
       "      <td>sweing</td>\n",
       "      <td>1</td>\n",
       "      <td>12</td>\n",
       "      <td>0.80</td>\n",
       "      <td>11.41</td>\n",
       "      <td>3660</td>\n",
       "      <td>50</td>\n",
       "      <td>0.0</td>\n",
       "      <td>0</td>\n",
       "      <td>0</td>\n",
       "      <td>30.5</td>\n",
       "      <td>0.800570</td>\n",
       "      <td>2015</td>\n",
       "      <td>1</td>\n",
       "      <td>3</td>\n",
       "    </tr>\n",
       "    <tr>\n",
       "      <th>4</th>\n",
       "      <td>Quarter1</td>\n",
       "      <td>sweing</td>\n",
       "      <td>1</td>\n",
       "      <td>6</td>\n",
       "      <td>0.80</td>\n",
       "      <td>25.90</td>\n",
       "      <td>1920</td>\n",
       "      <td>50</td>\n",
       "      <td>0.0</td>\n",
       "      <td>0</td>\n",
       "      <td>0</td>\n",
       "      <td>56.0</td>\n",
       "      <td>0.800382</td>\n",
       "      <td>2015</td>\n",
       "      <td>1</td>\n",
       "      <td>3</td>\n",
       "    </tr>\n",
       "  </tbody>\n",
       "</table>\n",
       "</div>"
      ],
      "text/plain": [
       "    quarter  department  day  team  targeted_productivity    smv  over_time  \\\n",
       "0  Quarter1      sweing    1     8                   0.80  26.16       7080   \n",
       "1  Quarter1  finishing     1     1                   0.75   3.94        960   \n",
       "2  Quarter1      sweing    1    11                   0.80  11.41       3660   \n",
       "3  Quarter1      sweing    1    12                   0.80  11.41       3660   \n",
       "4  Quarter1      sweing    1     6                   0.80  25.90       1920   \n",
       "\n",
       "   incentive  idle_time  idle_men  no_of_style_change  no_of_workers  \\\n",
       "0         98        0.0         0                   0           59.0   \n",
       "1          0        0.0         0                   0            8.0   \n",
       "2         50        0.0         0                   0           30.5   \n",
       "3         50        0.0         0                   0           30.5   \n",
       "4         50        0.0         0                   0           56.0   \n",
       "\n",
       "   actual_productivity  year  month  weekday  \n",
       "0             0.940725  2015      1        3  \n",
       "1             0.886500  2015      1        3  \n",
       "2             0.800570  2015      1        3  \n",
       "3             0.800570  2015      1        3  \n",
       "4             0.800382  2015      1        3  "
      ]
     },
     "execution_count": 20,
     "metadata": {},
     "output_type": "execute_result"
    }
   ],
   "source": [
    "dropped_data.head()"
   ]
  },
  {
   "cell_type": "markdown",
   "id": "ee39f8ab",
   "metadata": {},
   "source": [
    "### Sorting the Wrong Spelling Issue."
   ]
  },
  {
   "cell_type": "code",
   "execution_count": 21,
   "id": "3df49be4",
   "metadata": {},
   "outputs": [],
   "source": [
    "dropped_data['department'] = dropped_data['department'].replace('sweing', 'sewing')\n",
    "dropped_data['department'] = dropped_data['department'].replace('finishing ', 'finishing')"
   ]
  },
  {
   "cell_type": "code",
   "execution_count": 22,
   "id": "a988ced4",
   "metadata": {},
   "outputs": [
    {
     "data": {
      "text/plain": [
       "array(['sewing', 'finishing'], dtype=object)"
      ]
     },
     "execution_count": 22,
     "metadata": {},
     "output_type": "execute_result"
    }
   ],
   "source": [
    "dropped_data.department.unique()"
   ]
  },
  {
   "cell_type": "markdown",
   "id": "ef3f3d74",
   "metadata": {},
   "source": [
    "### Transforming Actual Productivity to two classes"
   ]
  },
  {
   "cell_type": "code",
   "execution_count": 23,
   "id": "1dca9f8f",
   "metadata": {},
   "outputs": [],
   "source": [
    "dropped_data['actual_productivity_class'] = np.where(dropped_data['actual_productivity'] >= 0.80, 'Satifactory', 'Non-Satisfactory')\n"
   ]
  },
  {
   "cell_type": "code",
   "execution_count": 24,
   "id": "98b27d64",
   "metadata": {},
   "outputs": [
    {
     "data": {
      "text/plain": [
       "department\n",
       "sewing       691\n",
       "finishing    506\n",
       "Name: count, dtype: int64"
      ]
     },
     "execution_count": 24,
     "metadata": {},
     "output_type": "execute_result"
    }
   ],
   "source": [
    "dropped_data.department.value_counts()"
   ]
  },
  {
   "cell_type": "code",
   "execution_count": 25,
   "id": "a877df02",
   "metadata": {},
   "outputs": [
    {
     "data": {
      "text/html": [
       "<div>\n",
       "<style scoped>\n",
       "    .dataframe tbody tr th:only-of-type {\n",
       "        vertical-align: middle;\n",
       "    }\n",
       "\n",
       "    .dataframe tbody tr th {\n",
       "        vertical-align: top;\n",
       "    }\n",
       "\n",
       "    .dataframe thead th {\n",
       "        text-align: right;\n",
       "    }\n",
       "</style>\n",
       "<table border=\"1\" class=\"dataframe\">\n",
       "  <thead>\n",
       "    <tr style=\"text-align: right;\">\n",
       "      <th></th>\n",
       "      <th>quarter</th>\n",
       "      <th>department</th>\n",
       "      <th>day</th>\n",
       "      <th>team</th>\n",
       "      <th>targeted_productivity</th>\n",
       "      <th>smv</th>\n",
       "      <th>over_time</th>\n",
       "      <th>incentive</th>\n",
       "      <th>idle_time</th>\n",
       "      <th>idle_men</th>\n",
       "      <th>no_of_style_change</th>\n",
       "      <th>no_of_workers</th>\n",
       "      <th>actual_productivity</th>\n",
       "      <th>year</th>\n",
       "      <th>month</th>\n",
       "      <th>weekday</th>\n",
       "      <th>actual_productivity_class</th>\n",
       "    </tr>\n",
       "  </thead>\n",
       "  <tbody>\n",
       "    <tr>\n",
       "      <th>0</th>\n",
       "      <td>Quarter1</td>\n",
       "      <td>sewing</td>\n",
       "      <td>1</td>\n",
       "      <td>8</td>\n",
       "      <td>0.80</td>\n",
       "      <td>26.16</td>\n",
       "      <td>7080</td>\n",
       "      <td>98</td>\n",
       "      <td>0.0</td>\n",
       "      <td>0</td>\n",
       "      <td>0</td>\n",
       "      <td>59.0</td>\n",
       "      <td>0.940725</td>\n",
       "      <td>2015</td>\n",
       "      <td>1</td>\n",
       "      <td>3</td>\n",
       "      <td>Satifactory</td>\n",
       "    </tr>\n",
       "    <tr>\n",
       "      <th>1</th>\n",
       "      <td>Quarter1</td>\n",
       "      <td>finishing</td>\n",
       "      <td>1</td>\n",
       "      <td>1</td>\n",
       "      <td>0.75</td>\n",
       "      <td>3.94</td>\n",
       "      <td>960</td>\n",
       "      <td>0</td>\n",
       "      <td>0.0</td>\n",
       "      <td>0</td>\n",
       "      <td>0</td>\n",
       "      <td>8.0</td>\n",
       "      <td>0.886500</td>\n",
       "      <td>2015</td>\n",
       "      <td>1</td>\n",
       "      <td>3</td>\n",
       "      <td>Satifactory</td>\n",
       "    </tr>\n",
       "    <tr>\n",
       "      <th>2</th>\n",
       "      <td>Quarter1</td>\n",
       "      <td>sewing</td>\n",
       "      <td>1</td>\n",
       "      <td>11</td>\n",
       "      <td>0.80</td>\n",
       "      <td>11.41</td>\n",
       "      <td>3660</td>\n",
       "      <td>50</td>\n",
       "      <td>0.0</td>\n",
       "      <td>0</td>\n",
       "      <td>0</td>\n",
       "      <td>30.5</td>\n",
       "      <td>0.800570</td>\n",
       "      <td>2015</td>\n",
       "      <td>1</td>\n",
       "      <td>3</td>\n",
       "      <td>Satifactory</td>\n",
       "    </tr>\n",
       "    <tr>\n",
       "      <th>3</th>\n",
       "      <td>Quarter1</td>\n",
       "      <td>sewing</td>\n",
       "      <td>1</td>\n",
       "      <td>12</td>\n",
       "      <td>0.80</td>\n",
       "      <td>11.41</td>\n",
       "      <td>3660</td>\n",
       "      <td>50</td>\n",
       "      <td>0.0</td>\n",
       "      <td>0</td>\n",
       "      <td>0</td>\n",
       "      <td>30.5</td>\n",
       "      <td>0.800570</td>\n",
       "      <td>2015</td>\n",
       "      <td>1</td>\n",
       "      <td>3</td>\n",
       "      <td>Satifactory</td>\n",
       "    </tr>\n",
       "    <tr>\n",
       "      <th>4</th>\n",
       "      <td>Quarter1</td>\n",
       "      <td>sewing</td>\n",
       "      <td>1</td>\n",
       "      <td>6</td>\n",
       "      <td>0.80</td>\n",
       "      <td>25.90</td>\n",
       "      <td>1920</td>\n",
       "      <td>50</td>\n",
       "      <td>0.0</td>\n",
       "      <td>0</td>\n",
       "      <td>0</td>\n",
       "      <td>56.0</td>\n",
       "      <td>0.800382</td>\n",
       "      <td>2015</td>\n",
       "      <td>1</td>\n",
       "      <td>3</td>\n",
       "      <td>Satifactory</td>\n",
       "    </tr>\n",
       "  </tbody>\n",
       "</table>\n",
       "</div>"
      ],
      "text/plain": [
       "    quarter department  day  team  targeted_productivity    smv  over_time  \\\n",
       "0  Quarter1     sewing    1     8                   0.80  26.16       7080   \n",
       "1  Quarter1  finishing    1     1                   0.75   3.94        960   \n",
       "2  Quarter1     sewing    1    11                   0.80  11.41       3660   \n",
       "3  Quarter1     sewing    1    12                   0.80  11.41       3660   \n",
       "4  Quarter1     sewing    1     6                   0.80  25.90       1920   \n",
       "\n",
       "   incentive  idle_time  idle_men  no_of_style_change  no_of_workers  \\\n",
       "0         98        0.0         0                   0           59.0   \n",
       "1          0        0.0         0                   0            8.0   \n",
       "2         50        0.0         0                   0           30.5   \n",
       "3         50        0.0         0                   0           30.5   \n",
       "4         50        0.0         0                   0           56.0   \n",
       "\n",
       "   actual_productivity  year  month  weekday actual_productivity_class  \n",
       "0             0.940725  2015      1        3               Satifactory  \n",
       "1             0.886500  2015      1        3               Satifactory  \n",
       "2             0.800570  2015      1        3               Satifactory  \n",
       "3             0.800570  2015      1        3               Satifactory  \n",
       "4             0.800382  2015      1        3               Satifactory  "
      ]
     },
     "execution_count": 25,
     "metadata": {},
     "output_type": "execute_result"
    }
   ],
   "source": [
    "dropped_data.head()"
   ]
  },
  {
   "cell_type": "markdown",
   "id": "4a1ed6ef",
   "metadata": {},
   "source": [
    "## Data Visualization"
   ]
  },
  {
   "cell_type": "code",
   "execution_count": 26,
   "id": "aeb8a225",
   "metadata": {},
   "outputs": [
    {
     "data": {
      "image/png": "[encoded data removed]",
      "text/plain": [
       "<Figure size 1000x600 with 1 Axes>"
      ]
     },
     "metadata": {},
     "output_type": "display_data"
    }
   ],
   "source": [
    "# Plotting a bar chart of the actual productivity by department\n",
    "plt.figure(figsize=(10, 6))\n",
    "sns.barplot(x='department', y='actual_productivity', data=dropped_data)\n",
    "plt.title('Actual Productivity by Department')\n",
    "plt.xlabel('Department')\n",
    "plt.ylabel('Actual Productivity')\n",
    "plt.show()\n"
   ]
  },
  {
   "cell_type": "code",
   "execution_count": 27,
   "id": "5941b359",
   "metadata": {},
   "outputs": [
    {
     "data": {
      "image/png": "[encoded data removed]",
      "text/plain": [
       "<Figure size 640x480 with 1 Axes>"
      ]
     },
     "metadata": {},
     "output_type": "display_data"
    }
   ],
   "source": [
    "sns.barplot(x='department', y='targeted_productivity', data=dropped_data)\n",
    "plt.title('Targeted Productivity by Department')\n",
    "plt.xlabel('Department')\n",
    "plt.ylabel('Targeted Productivity')\n",
    "plt.show()\n"
   ]
  },
  {
   "cell_type": "markdown",
   "id": "036ea54f",
   "metadata": {},
   "source": [
    "### Label Encoding"
   ]
  },
  {
   "cell_type": "code",
   "execution_count": 28,
   "id": "afed2d07",
   "metadata": {},
   "outputs": [
    {
     "name": "stderr",
     "output_type": "stream",
     "text": [
      "2024-04-16 14:09:55.009807: E external/local_xla/xla/stream_executor/cuda/cuda_dnn.cc:9261] Unable to register cuDNN factory: Attempting to register factory for plugin cuDNN when one has already been registered\n",
      "2024-04-16 14:09:55.010272: E external/local_xla/xla/stream_executor/cuda/cuda_fft.cc:607] Unable to register cuFFT factory: Attempting to register factory for plugin cuFFT when one has already been registered\n",
      "2024-04-16 14:09:55.745259: E external/local_xla/xla/stream_executor/cuda/cuda_blas.cc:1515] Unable to register cuBLAS factory: Attempting to register factory for plugin cuBLAS when one has already been registered\n",
      "2024-04-16 14:10:20.760148: W tensorflow/compiler/tf2tensorrt/utils/py_utils.cc:38] TF-TRT Warning: Could not find TensorRT\n"
     ]
    }
   ],
   "source": [
    "from sklearn.preprocessing import LabelEncoder\n",
    "from sklearn.preprocessing import Normalizer\n",
    "from sklearn.model_selection import train_test_split\n",
    "from sklearn.ensemble import RandomForestClassifier\n",
    "from sklearn.metrics import accuracy_score, f1_score\n",
    "from keras.models import Sequential, Model\n",
    "from keras.layers import Dense\n",
    "from keras.optimizers import SGD"
   ]
  },
  {
   "cell_type": "code",
   "execution_count": 29,
   "id": "66585215",
   "metadata": {},
   "outputs": [],
   "source": [
    "encoder = LabelEncoder()"
   ]
  },
  {
   "cell_type": "code",
   "execution_count": 30,
   "id": "d03d6423",
   "metadata": {},
   "outputs": [],
   "source": [
    "# checking for categorical columns\n",
    "obj_col = list(dropped_data.select_dtypes(include='object').columns)"
   ]
  },
  {
   "cell_type": "code",
   "execution_count": 31,
   "id": "f1c5fdb0",
   "metadata": {},
   "outputs": [
    {
     "data": {
      "text/plain": [
       "['quarter', 'department', 'actual_productivity_class']"
      ]
     },
     "execution_count": 31,
     "metadata": {},
     "output_type": "execute_result"
    }
   ],
   "source": [
    "obj_col"
   ]
  },
  {
   "cell_type": "code",
   "execution_count": 32,
   "id": "36a0ab51",
   "metadata": {},
   "outputs": [],
   "source": [
    "dropped_data[obj_col] = dropped_data[obj_col].apply(encoder.fit_transform)"
   ]
  },
  {
   "cell_type": "code",
   "execution_count": 33,
   "id": "24b6cea3",
   "metadata": {},
   "outputs": [
    {
     "data": {
      "text/html": [
       "<div>\n",
       "<style scoped>\n",
       "    .dataframe tbody tr th:only-of-type {\n",
       "        vertical-align: middle;\n",
       "    }\n",
       "\n",
       "    .dataframe tbody tr th {\n",
       "        vertical-align: top;\n",
       "    }\n",
       "\n",
       "    .dataframe thead th {\n",
       "        text-align: right;\n",
       "    }\n",
       "</style>\n",
       "<table border=\"1\" class=\"dataframe\">\n",
       "  <thead>\n",
       "    <tr style=\"text-align: right;\">\n",
       "      <th></th>\n",
       "      <th>quarter</th>\n",
       "      <th>department</th>\n",
       "      <th>day</th>\n",
       "      <th>team</th>\n",
       "      <th>targeted_productivity</th>\n",
       "      <th>smv</th>\n",
       "      <th>over_time</th>\n",
       "      <th>incentive</th>\n",
       "      <th>idle_time</th>\n",
       "      <th>idle_men</th>\n",
       "      <th>no_of_style_change</th>\n",
       "      <th>no_of_workers</th>\n",
       "      <th>actual_productivity</th>\n",
       "      <th>year</th>\n",
       "      <th>month</th>\n",
       "      <th>weekday</th>\n",
       "      <th>actual_productivity_class</th>\n",
       "    </tr>\n",
       "  </thead>\n",
       "  <tbody>\n",
       "    <tr>\n",
       "      <th>0</th>\n",
       "      <td>0</td>\n",
       "      <td>1</td>\n",
       "      <td>1</td>\n",
       "      <td>8</td>\n",
       "      <td>0.80</td>\n",
       "      <td>26.16</td>\n",
       "      <td>7080</td>\n",
       "      <td>98</td>\n",
       "      <td>0.0</td>\n",
       "      <td>0</td>\n",
       "      <td>0</td>\n",
       "      <td>59.0</td>\n",
       "      <td>0.940725</td>\n",
       "      <td>2015</td>\n",
       "      <td>1</td>\n",
       "      <td>3</td>\n",
       "      <td>1</td>\n",
       "    </tr>\n",
       "    <tr>\n",
       "      <th>1</th>\n",
       "      <td>0</td>\n",
       "      <td>0</td>\n",
       "      <td>1</td>\n",
       "      <td>1</td>\n",
       "      <td>0.75</td>\n",
       "      <td>3.94</td>\n",
       "      <td>960</td>\n",
       "      <td>0</td>\n",
       "      <td>0.0</td>\n",
       "      <td>0</td>\n",
       "      <td>0</td>\n",
       "      <td>8.0</td>\n",
       "      <td>0.886500</td>\n",
       "      <td>2015</td>\n",
       "      <td>1</td>\n",
       "      <td>3</td>\n",
       "      <td>1</td>\n",
       "    </tr>\n",
       "    <tr>\n",
       "      <th>2</th>\n",
       "      <td>0</td>\n",
       "      <td>1</td>\n",
       "      <td>1</td>\n",
       "      <td>11</td>\n",
       "      <td>0.80</td>\n",
       "      <td>11.41</td>\n",
       "      <td>3660</td>\n",
       "      <td>50</td>\n",
       "      <td>0.0</td>\n",
       "      <td>0</td>\n",
       "      <td>0</td>\n",
       "      <td>30.5</td>\n",
       "      <td>0.800570</td>\n",
       "      <td>2015</td>\n",
       "      <td>1</td>\n",
       "      <td>3</td>\n",
       "      <td>1</td>\n",
       "    </tr>\n",
       "    <tr>\n",
       "      <th>3</th>\n",
       "      <td>0</td>\n",
       "      <td>1</td>\n",
       "      <td>1</td>\n",
       "      <td>12</td>\n",
       "      <td>0.80</td>\n",
       "      <td>11.41</td>\n",
       "      <td>3660</td>\n",
       "      <td>50</td>\n",
       "      <td>0.0</td>\n",
       "      <td>0</td>\n",
       "      <td>0</td>\n",
       "      <td>30.5</td>\n",
       "      <td>0.800570</td>\n",
       "      <td>2015</td>\n",
       "      <td>1</td>\n",
       "      <td>3</td>\n",
       "      <td>1</td>\n",
       "    </tr>\n",
       "    <tr>\n",
       "      <th>4</th>\n",
       "      <td>0</td>\n",
       "      <td>1</td>\n",
       "      <td>1</td>\n",
       "      <td>6</td>\n",
       "      <td>0.80</td>\n",
       "      <td>25.90</td>\n",
       "      <td>1920</td>\n",
       "      <td>50</td>\n",
       "      <td>0.0</td>\n",
       "      <td>0</td>\n",
       "      <td>0</td>\n",
       "      <td>56.0</td>\n",
       "      <td>0.800382</td>\n",
       "      <td>2015</td>\n",
       "      <td>1</td>\n",
       "      <td>3</td>\n",
       "      <td>1</td>\n",
       "    </tr>\n",
       "  </tbody>\n",
       "</table>\n",
       "</div>"
      ],
      "text/plain": [
       "   quarter  department  day  team  targeted_productivity    smv  over_time  \\\n",
       "0        0           1    1     8                   0.80  26.16       7080   \n",
       "1        0           0    1     1                   0.75   3.94        960   \n",
       "2        0           1    1    11                   0.80  11.41       3660   \n",
       "3        0           1    1    12                   0.80  11.41       3660   \n",
       "4        0           1    1     6                   0.80  25.90       1920   \n",
       "\n",
       "   incentive  idle_time  idle_men  no_of_style_change  no_of_workers  \\\n",
       "0         98        0.0         0                   0           59.0   \n",
       "1          0        0.0         0                   0            8.0   \n",
       "2         50        0.0         0                   0           30.5   \n",
       "3         50        0.0         0                   0           30.5   \n",
       "4         50        0.0         0                   0           56.0   \n",
       "\n",
       "   actual_productivity  year  month  weekday  actual_productivity_class  \n",
       "0             0.940725  2015      1        3                          1  \n",
       "1             0.886500  2015      1        3                          1  \n",
       "2             0.800570  2015      1        3                          1  \n",
       "3             0.800570  2015      1        3                          1  \n",
       "4             0.800382  2015      1        3                          1  "
      ]
     },
     "execution_count": 33,
     "metadata": {},
     "output_type": "execute_result"
    }
   ],
   "source": [
    "dropped_data.head()"
   ]
  },
  {
   "cell_type": "code",
   "execution_count": 34,
   "id": "2726bca5",
   "metadata": {},
   "outputs": [
    {
     "name": "stdout",
     "output_type": "stream",
     "text": [
      "<class 'pandas.core.frame.DataFrame'>\n",
      "RangeIndex: 1197 entries, 0 to 1196\n",
      "Data columns (total 17 columns):\n",
      " #   Column                     Non-Null Count  Dtype  \n",
      "---  ------                     --------------  -----  \n",
      " 0   quarter                    1197 non-null   int64  \n",
      " 1   department                 1197 non-null   int64  \n",
      " 2   day                        1197 non-null   int32  \n",
      " 3   team                       1197 non-null   int64  \n",
      " 4   targeted_productivity      1197 non-null   float64\n",
      " 5   smv                        1197 non-null   float64\n",
      " 6   over_time                  1197 non-null   int64  \n",
      " 7   incentive                  1197 non-null   int64  \n",
      " 8   idle_time                  1197 non-null   float64\n",
      " 9   idle_men                   1197 non-null   int64  \n",
      " 10  no_of_style_change         1197 non-null   int64  \n",
      " 11  no_of_workers              1197 non-null   float64\n",
      " 12  actual_productivity        1197 non-null   float64\n",
      " 13  year                       1197 non-null   int32  \n",
      " 14  month                      1197 non-null   int32  \n",
      " 15  weekday                    1197 non-null   int32  \n",
      " 16  actual_productivity_class  1197 non-null   int64  \n",
      "dtypes: float64(5), int32(4), int64(8)\n",
      "memory usage: 140.4 KB\n"
     ]
    }
   ],
   "source": [
    "dropped_data.info()"
   ]
  },
  {
   "cell_type": "code",
   "execution_count": 35,
   "id": "1332b5cb",
   "metadata": {},
   "outputs": [],
   "source": [
    "norm = Normalizer()"
   ]
  },
  {
   "cell_type": "code",
   "execution_count": 36,
   "id": "b8615c9d",
   "metadata": {},
   "outputs": [],
   "source": [
    "X =  dropped_data.drop(['actual_productivity_class'], axis=1)\n",
    "y = dropped_data[\"actual_productivity_class\"]"
   ]
  },
  {
   "cell_type": "code",
   "execution_count": 37,
   "id": "3f4a2980",
   "metadata": {},
   "outputs": [],
   "source": [
    "X = norm.fit_transform(X)"
   ]
  },
  {
   "cell_type": "code",
   "execution_count": 38,
   "id": "2e944305",
   "metadata": {},
   "outputs": [],
   "source": [
    "X_train, X_test, y_train, y_test = train_test_split(X, y, test_size=0.2, random_state=42)"
   ]
  },
  {
   "cell_type": "markdown",
   "id": "a1f5bef8",
   "metadata": {},
   "source": [
    "## Model Training"
   ]
  },
  {
   "cell_type": "markdown",
   "id": "6c05ed47",
   "metadata": {},
   "source": [
    "#### Model Building with Scratch ANN (20 Neurons)"
   ]
  },
  {
   "cell_type": "code",
   "execution_count": 39,
   "id": "17353705",
   "metadata": {},
   "outputs": [],
   "source": [
    "from model_new import NeuralNetwork"
   ]
  },
  {
   "cell_type": "code",
   "execution_count": 40,
   "id": "2083bc06",
   "metadata": {},
   "outputs": [],
   "source": [
    "training_data = [(x.reshape(-1, 1), y) for x, y in zip(X_train, y_train)]\n",
    "test_data = [(x.reshape(-1, 1), y) for x, y in zip(X_test, y_test)]"
   ]
  },
  {
   "cell_type": "code",
   "execution_count": 41,
   "id": "4cffce21",
   "metadata": {},
   "outputs": [],
   "source": [
    "n_inputs = 16\n",
    "n_outputs = 2\n",
    "n_neurons = 20\n"
   ]
  },
  {
   "cell_type": "code",
   "execution_count": 62,
   "id": "ca745ec6",
   "metadata": {},
   "outputs": [],
   "source": [
    "network_20 = NeuralNetwork([16, 20, 1])\n",
    "train_data = training_data"
   ]
  },
  {
   "cell_type": "code",
   "execution_count": 63,
   "id": "fd6eb39c",
   "metadata": {},
   "outputs": [
    {
     "name": "stdout",
     "output_type": "stream",
     "text": [
      "Epoch 0: 126/ 240\n",
      "Epoch 1: 126/ 240\n",
      "Epoch 2: 126/ 240\n",
      "Epoch 3: 126/ 240\n",
      "Epoch 4: 126/ 240\n",
      "Epoch 5: 126/ 240\n",
      "Epoch 6: 126/ 240\n",
      "Epoch 7: 126/ 240\n",
      "Epoch 8: 126/ 240\n",
      "Epoch 9: 126/ 240\n",
      "Epoch 10: 126/ 240\n",
      "Epoch 11: 126/ 240\n",
      "Epoch 12: 126/ 240\n",
      "Epoch 13: 126/ 240\n",
      "Epoch 14: 126/ 240\n",
      "Epoch 15: 126/ 240\n",
      "Epoch 16: 126/ 240\n",
      "Epoch 17: 126/ 240\n",
      "Epoch 18: 126/ 240\n",
      "Epoch 19: 126/ 240\n",
      "Epoch 20: 126/ 240\n",
      "Epoch 21: 126/ 240\n",
      "Epoch 22: 126/ 240\n",
      "Epoch 23: 126/ 240\n",
      "Epoch 24: 126/ 240\n",
      "Epoch 25: 126/ 240\n",
      "Epoch 26: 126/ 240\n",
      "Epoch 27: 126/ 240\n",
      "Epoch 28: 126/ 240\n",
      "Epoch 29: 126/ 240\n"
     ]
    }
   ],
   "source": [
    "network_20.SGD(train_data, test_data, 30, 10, 3.0)"
   ]
  },
  {
   "cell_type": "code",
   "execution_count": 65,
   "id": "15ea42ca",
   "metadata": {},
   "outputs": [
    {
     "name": "stdout",
     "output_type": "stream",
     "text": [
      "Accuracy for ANN withh 20 neurons: 0.525\n"
     ]
    }
   ],
   "source": [
    "accuracy = network_20.evaluate(test_data)/len(test_data)\n",
    "print(f\"Accuracy for ANN withh 20 neurons: {accuracy}\")"
   ]
  },
  {
   "cell_type": "markdown",
   "id": "7266988e",
   "metadata": {},
   "source": [
    "#### ANN with 10 neurons"
   ]
  },
  {
   "cell_type": "code",
   "execution_count": 66,
   "id": "6570608d",
   "metadata": {},
   "outputs": [],
   "source": [
    "n_inputs = 16\n",
    "n_outputs = 2\n",
    "n_neuron_10 = 10"
   ]
  },
  {
   "cell_type": "code",
   "execution_count": 67,
   "id": "bdfc7e23",
   "metadata": {},
   "outputs": [],
   "source": [
    "network_10 = NeuralNetwork([n_inputs, n_neuron_10, n_outputs])"
   ]
  },
  {
   "cell_type": "code",
   "execution_count": 68,
   "id": "340f3b1d",
   "metadata": {},
   "outputs": [
    {
     "name": "stdout",
     "output_type": "stream",
     "text": [
      "Epoch 0: 127/ 240\n",
      "Epoch 1: 132/ 240\n",
      "Epoch 2: 127/ 240\n",
      "Epoch 3: 114/ 240\n",
      "Epoch 4: 108/ 240\n",
      "Epoch 5: 114/ 240\n",
      "Epoch 6: 114/ 240\n",
      "Epoch 7: 114/ 240\n",
      "Epoch 8: 114/ 240\n",
      "Epoch 9: 132/ 240\n",
      "Epoch 10: 134/ 240\n",
      "Epoch 11: 116/ 240\n",
      "Epoch 12: 104/ 240\n",
      "Epoch 13: 136/ 240\n",
      "Epoch 14: 114/ 240\n",
      "Epoch 15: 135/ 240\n",
      "Epoch 16: 114/ 240\n",
      "Epoch 17: 132/ 240\n",
      "Epoch 18: 114/ 240\n",
      "Epoch 19: 113/ 240\n",
      "Epoch 20: 117/ 240\n",
      "Epoch 21: 114/ 240\n",
      "Epoch 22: 119/ 240\n",
      "Epoch 23: 115/ 240\n",
      "Epoch 24: 132/ 240\n",
      "Epoch 25: 131/ 240\n",
      "Epoch 26: 113/ 240\n",
      "Epoch 27: 105/ 240\n",
      "Epoch 28: 126/ 240\n",
      "Epoch 29: 108/ 240\n"
     ]
    }
   ],
   "source": [
    "network_10.SGD(train_data, test_data, 30, 10, 3.0)"
   ]
  },
  {
   "cell_type": "code",
   "execution_count": 69,
   "id": "489d568a",
   "metadata": {},
   "outputs": [
    {
     "name": "stdout",
     "output_type": "stream",
     "text": [
      "Accuracy for ANN withh 10 neurons: 0.45\n"
     ]
    }
   ],
   "source": [
    "accuracy = network_10.evaluate(test_data)/len(test_data)\n",
    "print(f\"Accuracy for ANN withh 10 neurons: {accuracy}\")"
   ]
  },
  {
   "cell_type": "markdown",
   "id": "f4cc09d4",
   "metadata": {},
   "source": [
    "#### ANN Model with 30 Neurons"
   ]
  },
  {
   "cell_type": "code",
   "execution_count": 71,
   "id": "bf9cae40",
   "metadata": {},
   "outputs": [],
   "source": [
    "n_inputs = 16\n",
    "n_outputs = 2\n",
    "n_neuron_30 = 30"
   ]
  },
  {
   "cell_type": "code",
   "execution_count": 72,
   "metadata": {},
   "outputs": [],
   "source": [
    "network_30 = NeuralNetwork([n_inputs, n_neuron_30, n_outputs])"
   ]
  },
  {
   "cell_type": "code",
   "execution_count": 73,
   "metadata": {},
   "outputs": [
    {
     "name": "stdout",
     "output_type": "stream",
     "text": [
      "Epoch 0: 113/ 240\n",
      "Epoch 1: 109/ 240\n",
      "Epoch 2: 129/ 240\n",
      "Epoch 3: 119/ 240\n",
      "Epoch 4: 113/ 240\n",
      "Epoch 5: 114/ 240\n",
      "Epoch 6: 119/ 240\n",
      "Epoch 7: 114/ 240\n",
      "Epoch 8: 112/ 240\n",
      "Epoch 9: 112/ 240\n",
      "Epoch 10: 124/ 240\n",
      "Epoch 11: 130/ 240\n",
      "Epoch 12: 133/ 240\n",
      "Epoch 13: 136/ 240\n",
      "Epoch 14: 132/ 240\n",
      "Epoch 15: 132/ 240\n",
      "Epoch 16: 134/ 240\n",
      "Epoch 17: 135/ 240\n",
      "Epoch 18: 109/ 240\n",
      "Epoch 19: 138/ 240\n",
      "Epoch 20: 137/ 240\n",
      "Epoch 21: 109/ 240\n",
      "Epoch 22: 133/ 240\n",
      "Epoch 23: 110/ 240\n",
      "Epoch 24: 129/ 240\n",
      "Epoch 25: 139/ 240\n",
      "Epoch 26: 135/ 240\n",
      "Epoch 27: 141/ 240\n",
      "Epoch 28: 141/ 240\n",
      "Epoch 29: 131/ 240\n"
     ]
    }
   ],
   "source": [
    "network_30.SGD(train_data, test_data, 30, 10, 3.0)"
   ]
  },
  {
   "cell_type": "code",
   "execution_count": 74,
   "id": "f3745cb4",
   "metadata": {},
   "outputs": [
    {
     "name": "stdout",
     "output_type": "stream",
     "text": [
      "Accuracy for ANN withh 10 neurons: 0.5458333333333333\n"
     ]
    }
   ],
   "source": [
    "accuracy = network_30.evaluate(test_data)/len(test_data)\n",
    "print(f\"Accuracy for ANN withh 10 neurons: {accuracy}\")"
   ]
  },
  {
   "cell_type": "markdown",
   "id": "ec55c8e7",
   "metadata": {},
   "source": [
    "#### Model Building with Keras Model"
   ]
  },
  {
   "cell_type": "code",
   "execution_count": 75,
   "id": "e4a3cd49",
   "metadata": {},
   "outputs": [],
   "source": [
    "model_keras = Sequential([\n",
    "    Dense(64, activation='relu', input_shape=(X_train.shape[1],)),\n",
    "    Dense(64, activation='relu'),\n",
    "    Dense(32, activation='relu'),\n",
    "    Dense(1, activation='sigmoid')\n",
    "])"
   ]
  },
  {
   "cell_type": "code",
   "execution_count": 76,
   "id": "b37c8439",
   "metadata": {},
   "outputs": [],
   "source": [
    "model_keras.compile(optimizer='adam', loss='binary_crossentropy', metrics=['accuracy'])\n"
   ]
  },
  {
   "cell_type": "code",
   "execution_count": 77,
   "id": "b4d62d36",
   "metadata": {},
   "outputs": [
    {
     "name": "stdout",
     "output_type": "stream",
     "text": [
      "Epoch 1/100\n"
     ]
    },
    {
     "name": "stdout",
     "output_type": "stream",
     "text": [
      "24/24 [==============================] - 3s 28ms/step - loss: 0.6939 - accuracy: 0.5137 - val_loss: 0.6884 - val_accuracy: 0.5729\n",
      "Epoch 2/100\n",
      "24/24 [==============================] - 0s 8ms/step - loss: 0.6934 - accuracy: 0.5163 - val_loss: 0.6889 - val_accuracy: 0.5729\n",
      "Epoch 3/100\n",
      "24/24 [==============================] - 0s 9ms/step - loss: 0.6932 - accuracy: 0.4850 - val_loss: 0.6934 - val_accuracy: 0.5156\n",
      "Epoch 4/100\n",
      "24/24 [==============================] - 0s 8ms/step - loss: 0.6914 - accuracy: 0.5464 - val_loss: 0.6876 - val_accuracy: 0.5729\n",
      "Epoch 5/100\n",
      "24/24 [==============================] - 0s 9ms/step - loss: 0.6923 - accuracy: 0.5163 - val_loss: 0.6875 - val_accuracy: 0.5729\n",
      "Epoch 6/100\n",
      "24/24 [==============================] - 0s 9ms/step - loss: 0.6921 - accuracy: 0.5137 - val_loss: 0.6880 - val_accuracy: 0.5729\n",
      "Epoch 7/100\n",
      "24/24 [==============================] - 0s 17ms/step - loss: 0.6912 - accuracy: 0.5163 - val_loss: 0.6879 - val_accuracy: 0.5729\n",
      "Epoch 8/100\n",
      "24/24 [==============================] - 0s 13ms/step - loss: 0.6906 - accuracy: 0.5176 - val_loss: 0.6900 - val_accuracy: 0.5833\n",
      "Epoch 9/100\n",
      "24/24 [==============================] - 0s 9ms/step - loss: 0.6902 - accuracy: 0.5464 - val_loss: 0.6912 - val_accuracy: 0.5729\n",
      "Epoch 10/100\n",
      "24/24 [==============================] - 0s 9ms/step - loss: 0.6901 - accuracy: 0.5163 - val_loss: 0.6897 - val_accuracy: 0.5729\n",
      "Epoch 11/100\n",
      "24/24 [==============================] - 0s 9ms/step - loss: 0.6893 - accuracy: 0.5320 - val_loss: 0.6893 - val_accuracy: 0.5885\n",
      "Epoch 12/100\n",
      "24/24 [==============================] - 0s 9ms/step - loss: 0.6895 - accuracy: 0.5098 - val_loss: 0.6932 - val_accuracy: 0.5365\n",
      "Epoch 13/100\n",
      "24/24 [==============================] - 0s 9ms/step - loss: 0.6880 - accuracy: 0.5425 - val_loss: 0.6867 - val_accuracy: 0.5729\n",
      "Epoch 14/100\n",
      "24/24 [==============================] - 0s 10ms/step - loss: 0.6887 - accuracy: 0.5255 - val_loss: 0.6897 - val_accuracy: 0.5990\n",
      "Epoch 15/100\n",
      "24/24 [==============================] - 0s 13ms/step - loss: 0.6878 - accuracy: 0.5582 - val_loss: 0.6898 - val_accuracy: 0.5781\n",
      "Epoch 16/100\n",
      "24/24 [==============================] - 0s 19ms/step - loss: 0.6868 - accuracy: 0.5320 - val_loss: 0.6898 - val_accuracy: 0.5781\n",
      "Epoch 17/100\n",
      "24/24 [==============================] - 0s 16ms/step - loss: 0.6849 - accuracy: 0.5386 - val_loss: 0.6970 - val_accuracy: 0.4583\n",
      "Epoch 18/100\n",
      "24/24 [==============================] - 0s 15ms/step - loss: 0.6849 - accuracy: 0.5686 - val_loss: 0.6928 - val_accuracy: 0.5573\n",
      "Epoch 19/100\n",
      "24/24 [==============================] - 0s 14ms/step - loss: 0.6845 - accuracy: 0.5386 - val_loss: 0.6920 - val_accuracy: 0.5625\n",
      "Epoch 20/100\n",
      "24/24 [==============================] - 0s 12ms/step - loss: 0.6850 - accuracy: 0.5190 - val_loss: 0.6885 - val_accuracy: 0.5781\n",
      "Epoch 21/100\n",
      "24/24 [==============================] - 0s 11ms/step - loss: 0.6849 - accuracy: 0.5359 - val_loss: 0.6893 - val_accuracy: 0.5938\n",
      "Epoch 22/100\n",
      "24/24 [==============================] - 0s 15ms/step - loss: 0.6808 - accuracy: 0.5791 - val_loss: 0.6945 - val_accuracy: 0.5417\n",
      "Epoch 23/100\n",
      "24/24 [==============================] - 0s 14ms/step - loss: 0.6843 - accuracy: 0.5242 - val_loss: 0.6952 - val_accuracy: 0.5729\n",
      "Epoch 24/100\n",
      "24/24 [==============================] - 0s 13ms/step - loss: 0.6855 - accuracy: 0.5516 - val_loss: 0.6976 - val_accuracy: 0.5885\n",
      "Epoch 25/100\n",
      "24/24 [==============================] - 0s 12ms/step - loss: 0.6796 - accuracy: 0.5359 - val_loss: 0.6935 - val_accuracy: 0.5781\n",
      "Epoch 26/100\n",
      "24/24 [==============================] - 1s 24ms/step - loss: 0.6773 - accuracy: 0.5634 - val_loss: 0.6883 - val_accuracy: 0.5885\n",
      "Epoch 27/100\n",
      "24/24 [==============================] - 0s 14ms/step - loss: 0.6764 - accuracy: 0.5752 - val_loss: 0.6929 - val_accuracy: 0.5781\n",
      "Epoch 28/100\n",
      "24/24 [==============================] - 0s 17ms/step - loss: 0.6762 - accuracy: 0.5856 - val_loss: 0.6945 - val_accuracy: 0.5625\n",
      "Epoch 29/100\n",
      "24/24 [==============================] - 0s 13ms/step - loss: 0.6754 - accuracy: 0.5699 - val_loss: 0.7005 - val_accuracy: 0.5729\n",
      "Epoch 30/100\n",
      "24/24 [==============================] - 0s 15ms/step - loss: 0.6743 - accuracy: 0.5882 - val_loss: 0.6904 - val_accuracy: 0.5833\n",
      "Epoch 31/100\n",
      "24/24 [==============================] - 0s 14ms/step - loss: 0.6742 - accuracy: 0.5804 - val_loss: 0.6937 - val_accuracy: 0.5573\n",
      "Epoch 32/100\n",
      "24/24 [==============================] - 0s 14ms/step - loss: 0.6732 - accuracy: 0.5778 - val_loss: 0.6831 - val_accuracy: 0.5885\n",
      "Epoch 33/100\n",
      "24/24 [==============================] - 0s 13ms/step - loss: 0.6682 - accuracy: 0.5739 - val_loss: 0.7057 - val_accuracy: 0.4948\n",
      "Epoch 34/100\n",
      "24/24 [==============================] - 0s 16ms/step - loss: 0.6691 - accuracy: 0.5961 - val_loss: 0.6746 - val_accuracy: 0.6042\n",
      "Epoch 35/100\n",
      "24/24 [==============================] - 0s 10ms/step - loss: 0.6645 - accuracy: 0.5817 - val_loss: 0.6865 - val_accuracy: 0.5729\n",
      "Epoch 36/100\n",
      "24/24 [==============================] - 0s 11ms/step - loss: 0.6637 - accuracy: 0.5804 - val_loss: 0.6855 - val_accuracy: 0.5885\n",
      "Epoch 37/100\n",
      "24/24 [==============================] - 1s 27ms/step - loss: 0.6602 - accuracy: 0.6405 - val_loss: 0.6790 - val_accuracy: 0.5885\n",
      "Epoch 38/100\n",
      "24/24 [==============================] - 0s 16ms/step - loss: 0.6567 - accuracy: 0.6261 - val_loss: 0.6798 - val_accuracy: 0.5885\n",
      "Epoch 39/100\n",
      "24/24 [==============================] - 0s 19ms/step - loss: 0.6542 - accuracy: 0.6288 - val_loss: 0.6796 - val_accuracy: 0.5885\n",
      "Epoch 40/100\n",
      "24/24 [==============================] - 0s 17ms/step - loss: 0.6551 - accuracy: 0.6105 - val_loss: 0.6718 - val_accuracy: 0.6146\n",
      "Epoch 41/100\n",
      "24/24 [==============================] - 0s 16ms/step - loss: 0.6498 - accuracy: 0.6248 - val_loss: 0.6644 - val_accuracy: 0.6094\n",
      "Epoch 42/100\n",
      "24/24 [==============================] - 0s 12ms/step - loss: 0.6542 - accuracy: 0.5843 - val_loss: 0.6612 - val_accuracy: 0.6198\n",
      "Epoch 43/100\n",
      "24/24 [==============================] - 0s 16ms/step - loss: 0.6432 - accuracy: 0.6235 - val_loss: 0.6693 - val_accuracy: 0.5990\n",
      "Epoch 44/100\n",
      "24/24 [==============================] - 0s 11ms/step - loss: 0.6356 - accuracy: 0.6458 - val_loss: 0.6526 - val_accuracy: 0.6250\n",
      "Epoch 45/100\n",
      "24/24 [==============================] - 0s 10ms/step - loss: 0.6356 - accuracy: 0.6366 - val_loss: 0.6704 - val_accuracy: 0.6250\n",
      "Epoch 46/100\n",
      "24/24 [==============================] - 0s 9ms/step - loss: 0.6354 - accuracy: 0.6301 - val_loss: 0.6576 - val_accuracy: 0.6302\n",
      "Epoch 47/100\n",
      "24/24 [==============================] - 1s 25ms/step - loss: 0.6216 - accuracy: 0.6706 - val_loss: 0.6637 - val_accuracy: 0.6510\n",
      "Epoch 48/100\n",
      "24/24 [==============================] - 0s 21ms/step - loss: 0.6208 - accuracy: 0.6745 - val_loss: 0.6451 - val_accuracy: 0.6510\n",
      "Epoch 49/100\n",
      "24/24 [==============================] - 1s 31ms/step - loss: 0.6297 - accuracy: 0.6288 - val_loss: 0.8187 - val_accuracy: 0.4583\n",
      "Epoch 50/100\n",
      "24/24 [==============================] - 0s 19ms/step - loss: 0.6351 - accuracy: 0.6471 - val_loss: 0.6505 - val_accuracy: 0.6510\n",
      "Epoch 51/100\n",
      "24/24 [==============================] - 0s 16ms/step - loss: 0.6144 - accuracy: 0.6562 - val_loss: 0.6401 - val_accuracy: 0.6406\n",
      "Epoch 52/100\n",
      "24/24 [==============================] - 0s 11ms/step - loss: 0.6058 - accuracy: 0.6654 - val_loss: 0.6442 - val_accuracy: 0.6615\n",
      "Epoch 53/100\n",
      "24/24 [==============================] - 0s 14ms/step - loss: 0.6004 - accuracy: 0.6810 - val_loss: 0.6335 - val_accuracy: 0.6510\n",
      "Epoch 54/100\n",
      "24/24 [==============================] - 0s 14ms/step - loss: 0.5957 - accuracy: 0.6837 - val_loss: 0.6536 - val_accuracy: 0.6927\n",
      "Epoch 55/100\n",
      "24/24 [==============================] - 0s 14ms/step - loss: 0.6141 - accuracy: 0.6562 - val_loss: 0.6384 - val_accuracy: 0.6354\n",
      "Epoch 56/100\n",
      "24/24 [==============================] - 0s 14ms/step - loss: 0.6070 - accuracy: 0.6510 - val_loss: 0.6316 - val_accuracy: 0.6771\n",
      "Epoch 57/100\n",
      "24/24 [==============================] - 0s 19ms/step - loss: 0.5866 - accuracy: 0.6902 - val_loss: 0.6144 - val_accuracy: 0.6667\n",
      "Epoch 58/100\n",
      "24/24 [==============================] - 0s 19ms/step - loss: 0.5873 - accuracy: 0.6954 - val_loss: 0.7191 - val_accuracy: 0.5677\n",
      "Epoch 59/100\n",
      "24/24 [==============================] - 1s 25ms/step - loss: 0.5781 - accuracy: 0.6771 - val_loss: 0.6193 - val_accuracy: 0.6875\n",
      "Epoch 60/100\n",
      "24/24 [==============================] - 0s 14ms/step - loss: 0.5711 - accuracy: 0.7137 - val_loss: 0.6329 - val_accuracy: 0.6927\n",
      "Epoch 61/100\n",
      "24/24 [==============================] - 0s 13ms/step - loss: 0.5848 - accuracy: 0.6706 - val_loss: 0.5978 - val_accuracy: 0.7083\n",
      "Epoch 62/100\n",
      "24/24 [==============================] - 0s 15ms/step - loss: 0.5790 - accuracy: 0.6837 - val_loss: 0.6082 - val_accuracy: 0.7083\n",
      "Epoch 63/100\n",
      "24/24 [==============================] - 0s 16ms/step - loss: 0.5662 - accuracy: 0.7072 - val_loss: 0.6135 - val_accuracy: 0.7031\n",
      "Epoch 64/100\n",
      "24/24 [==============================] - 0s 18ms/step - loss: 0.5569 - accuracy: 0.7190 - val_loss: 0.6288 - val_accuracy: 0.6771\n",
      "Epoch 65/100\n",
      "24/24 [==============================] - 0s 17ms/step - loss: 0.5568 - accuracy: 0.7059 - val_loss: 0.5990 - val_accuracy: 0.7240\n",
      "Epoch 66/100\n",
      "24/24 [==============================] - 1s 26ms/step - loss: 0.5515 - accuracy: 0.7190 - val_loss: 0.6043 - val_accuracy: 0.7083\n",
      "Epoch 67/100\n",
      "24/24 [==============================] - 1s 22ms/step - loss: 0.5807 - accuracy: 0.6680 - val_loss: 0.7071 - val_accuracy: 0.6094\n",
      "Epoch 68/100\n",
      "24/24 [==============================] - 1s 29ms/step - loss: 0.5769 - accuracy: 0.6693 - val_loss: 0.5960 - val_accuracy: 0.6823\n",
      "Epoch 69/100\n",
      "24/24 [==============================] - 0s 19ms/step - loss: 0.5745 - accuracy: 0.6824 - val_loss: 0.6026 - val_accuracy: 0.7135\n",
      "Epoch 70/100\n",
      "24/24 [==============================] - 1s 20ms/step - loss: 0.5610 - accuracy: 0.7059 - val_loss: 0.5995 - val_accuracy: 0.7083\n",
      "Epoch 71/100\n",
      "24/24 [==============================] - 0s 11ms/step - loss: 0.5438 - accuracy: 0.7137 - val_loss: 0.6443 - val_accuracy: 0.6719\n",
      "Epoch 72/100\n",
      "24/24 [==============================] - 0s 15ms/step - loss: 0.5488 - accuracy: 0.7216 - val_loss: 0.5997 - val_accuracy: 0.7240\n",
      "Epoch 73/100\n",
      "24/24 [==============================] - 0s 13ms/step - loss: 0.5461 - accuracy: 0.7072 - val_loss: 0.5773 - val_accuracy: 0.7031\n",
      "Epoch 74/100\n",
      "24/24 [==============================] - 0s 15ms/step - loss: 0.5478 - accuracy: 0.6967 - val_loss: 0.6180 - val_accuracy: 0.6927\n",
      "Epoch 75/100\n",
      "24/24 [==============================] - 0s 15ms/step - loss: 0.5396 - accuracy: 0.7190 - val_loss: 0.6000 - val_accuracy: 0.7188\n",
      "Epoch 76/100\n",
      "24/24 [==============================] - 0s 15ms/step - loss: 0.5425 - accuracy: 0.7150 - val_loss: 0.5875 - val_accuracy: 0.6615\n",
      "Epoch 77/100\n",
      "24/24 [==============================] - 0s 11ms/step - loss: 0.5436 - accuracy: 0.7203 - val_loss: 0.5853 - val_accuracy: 0.7135\n",
      "Epoch 78/100\n",
      "24/24 [==============================] - 1s 25ms/step - loss: 0.5374 - accuracy: 0.7163 - val_loss: 0.6040 - val_accuracy: 0.7031\n",
      "Epoch 79/100\n",
      "24/24 [==============================] - 0s 17ms/step - loss: 0.5429 - accuracy: 0.7085 - val_loss: 0.7202 - val_accuracy: 0.6198\n",
      "Epoch 80/100\n",
      "24/24 [==============================] - 0s 13ms/step - loss: 0.5441 - accuracy: 0.7150 - val_loss: 0.5625 - val_accuracy: 0.7448\n",
      "Epoch 81/100\n",
      "24/24 [==============================] - 0s 15ms/step - loss: 0.5359 - accuracy: 0.7111 - val_loss: 0.5981 - val_accuracy: 0.7083\n",
      "Epoch 82/100\n",
      "24/24 [==============================] - 0s 14ms/step - loss: 0.5239 - accuracy: 0.7346 - val_loss: 0.6000 - val_accuracy: 0.6979\n",
      "Epoch 83/100\n",
      "24/24 [==============================] - 0s 8ms/step - loss: 0.5248 - accuracy: 0.7268 - val_loss: 0.5637 - val_accuracy: 0.7552\n",
      "Epoch 84/100\n",
      "24/24 [==============================] - 0s 15ms/step - loss: 0.5418 - accuracy: 0.7176 - val_loss: 0.6382 - val_accuracy: 0.6615\n",
      "Epoch 85/100\n",
      "24/24 [==============================] - 0s 9ms/step - loss: 0.5308 - accuracy: 0.7203 - val_loss: 0.5773 - val_accuracy: 0.7240\n",
      "Epoch 86/100\n",
      "24/24 [==============================] - 0s 11ms/step - loss: 0.5297 - accuracy: 0.7203 - val_loss: 0.6454 - val_accuracy: 0.6771\n",
      "Epoch 87/100\n",
      "24/24 [==============================] - 0s 9ms/step - loss: 0.5517 - accuracy: 0.7020 - val_loss: 0.5885 - val_accuracy: 0.6667\n",
      "Epoch 88/100\n",
      "24/24 [==============================] - 0s 15ms/step - loss: 0.5545 - accuracy: 0.7059 - val_loss: 0.6237 - val_accuracy: 0.6823\n",
      "Epoch 89/100\n",
      "24/24 [==============================] - 0s 11ms/step - loss: 0.5190 - accuracy: 0.7255 - val_loss: 0.5613 - val_accuracy: 0.7500\n",
      "Epoch 90/100\n",
      "24/24 [==============================] - 0s 10ms/step - loss: 0.5324 - accuracy: 0.7203 - val_loss: 0.6093 - val_accuracy: 0.6927\n",
      "Epoch 91/100\n",
      "24/24 [==============================] - 0s 16ms/step - loss: 0.5210 - accuracy: 0.7281 - val_loss: 0.5614 - val_accuracy: 0.7604\n",
      "Epoch 92/100\n",
      "24/24 [==============================] - 0s 19ms/step - loss: 0.5215 - accuracy: 0.7281 - val_loss: 0.5995 - val_accuracy: 0.6979\n",
      "Epoch 93/100\n",
      "24/24 [==============================] - 0s 17ms/step - loss: 0.5383 - accuracy: 0.7111 - val_loss: 0.6709 - val_accuracy: 0.6562\n",
      "Epoch 94/100\n",
      "24/24 [==============================] - 0s 12ms/step - loss: 0.5539 - accuracy: 0.6863 - val_loss: 0.5703 - val_accuracy: 0.7448\n",
      "Epoch 95/100\n",
      "24/24 [==============================] - 0s 11ms/step - loss: 0.5312 - accuracy: 0.7163 - val_loss: 0.5684 - val_accuracy: 0.7448\n",
      "Epoch 96/100\n",
      "24/24 [==============================] - 0s 12ms/step - loss: 0.5407 - accuracy: 0.7098 - val_loss: 0.6516 - val_accuracy: 0.6615\n",
      "Epoch 97/100\n",
      "24/24 [==============================] - 0s 16ms/step - loss: 0.5505 - accuracy: 0.7046 - val_loss: 0.5641 - val_accuracy: 0.7708\n",
      "Epoch 98/100\n",
      "24/24 [==============================] - 0s 9ms/step - loss: 0.5349 - accuracy: 0.7007 - val_loss: 0.6681 - val_accuracy: 0.6562\n",
      "Epoch 99/100\n",
      "24/24 [==============================] - 0s 11ms/step - loss: 0.5157 - accuracy: 0.7399 - val_loss: 0.5694 - val_accuracy: 0.7552\n",
      "Epoch 100/100\n",
      "24/24 [==============================] - 0s 9ms/step - loss: 0.5127 - accuracy: 0.7229 - val_loss: 0.5651 - val_accuracy: 0.7396\n"
     ]
    },
    {
     "data": {
      "text/plain": [
       "<keras.src.callbacks.History at 0x70dfc0b16b10>"
      ]
     },
     "execution_count": 77,
     "metadata": {},
     "output_type": "execute_result"
    }
   ],
   "source": [
    "# Train the model\n",
    "model_keras.fit(X_train, y_train, epochs=100, batch_size=32, validation_split=0.2)\n"
   ]
  },
  {
   "cell_type": "code",
   "execution_count": 78,
   "id": "6b94098c",
   "metadata": {},
   "outputs": [
    {
     "name": "stdout",
     "output_type": "stream",
     "text": [
      "8/8 [==============================] - 1s 9ms/step - loss: 0.5847 - accuracy: 0.7167\n",
      "Test Loss: 0.5846903324127197\n",
      "Test Accuracy: 0.7166666388511658\n"
     ]
    }
   ],
   "source": [
    "# Evaluate the model\n",
    "loss, accuracy = model_keras.evaluate(X_test, y_test)\n",
    "print(f\"Test Loss: {loss}\")\n",
    "print(f\"Test Accuracy: {accuracy}\")\n"
   ]
  },
  {
   "cell_type": "markdown",
   "id": "dada060c",
   "metadata": {},
   "source": [
    "##### Model tuning"
   ]
  },
  {
   "cell_type": "code",
   "execution_count": 79,
   "id": "dddaa28d",
   "metadata": {},
   "outputs": [],
   "source": [
    "from keras.layers import Dropout, BatchNormalization\n",
    "from keras import regularizers"
   ]
  },
  {
   "cell_type": "code",
   "execution_count": 80,
   "id": "9b8ef3f1",
   "metadata": {},
   "outputs": [],
   "source": [
    "model_tune = Sequential()\n",
    "model_tune.add(Dense(units=20, activation='relu', input_dim=X_train.shape[1]))\n",
    "model_tune.add(Dropout(0.5))\n",
    "model_tune.add(Dense(64, input_dim=64,\n",
    "                kernel_regularizer=regularizers.l1(0.01),\n",
    "                activity_regularizer=regularizers.l2(0.01)))\n",
    "model_tune.add(BatchNormalization())\n",
    "model_tune.add(Dense(units=1, activation='softmax'))"
   ]
  },
  {
   "cell_type": "code",
   "execution_count": 81,
   "id": "51510280",
   "metadata": {},
   "outputs": [],
   "source": [
    "model_tune.compile(optimizer=SGD(learning_rate=0.1), loss='binary_crossentropy', metrics=['accuracy'])"
   ]
  },
  {
   "cell_type": "code",
   "execution_count": 82,
   "id": "e8a9aff4",
   "metadata": {},
   "outputs": [
    {
     "name": "stdout",
     "output_type": "stream",
     "text": [
      "Epoch 1/10\n"
     ]
    },
    {
     "name": "stdout",
     "output_type": "stream",
     "text": [
      "30/30 [==============================] - 2s 22ms/step - loss: 2.2991 - accuracy: 0.4723 - val_loss: 2.0477 - val_accuracy: 0.4750\n",
      "Epoch 2/10\n",
      "30/30 [==============================] - 0s 10ms/step - loss: 1.9174 - accuracy: 0.4723 - val_loss: 1.7308 - val_accuracy: 0.4750\n",
      "Epoch 3/10\n",
      "30/30 [==============================] - 0s 9ms/step - loss: 1.6141 - accuracy: 0.4723 - val_loss: 1.4546 - val_accuracy: 0.4750\n",
      "Epoch 4/10\n",
      "30/30 [==============================] - 0s 10ms/step - loss: 1.3439 - accuracy: 0.4723 - val_loss: 1.2200 - val_accuracy: 0.4750\n",
      "Epoch 5/10\n",
      "30/30 [==============================] - 0s 8ms/step - loss: 1.1259 - accuracy: 0.4723 - val_loss: 1.0273 - val_accuracy: 0.4750\n",
      "Epoch 6/10\n",
      "30/30 [==============================] - 0s 11ms/step - loss: 0.9555 - accuracy: 0.4723 - val_loss: 0.8816 - val_accuracy: 0.4750\n",
      "Epoch 7/10\n",
      "30/30 [==============================] - 0s 12ms/step - loss: 0.8287 - accuracy: 0.4723 - val_loss: 0.7790 - val_accuracy: 0.4750\n",
      "Epoch 8/10\n",
      "30/30 [==============================] - 0s 11ms/step - loss: 0.7474 - accuracy: 0.4723 - val_loss: 0.7168 - val_accuracy: 0.4750\n",
      "Epoch 9/10\n",
      "30/30 [==============================] - 0s 12ms/step - loss: 0.7067 - accuracy: 0.4723 - val_loss: 0.7000 - val_accuracy: 0.4750\n",
      "Epoch 10/10\n",
      "30/30 [==============================] - 1s 19ms/step - loss: 0.7008 - accuracy: 0.4723 - val_loss: 0.6988 - val_accuracy: 0.4750\n"
     ]
    },
    {
     "data": {
      "text/plain": [
       "<keras.src.callbacks.History at 0x70dfc09f4b90>"
      ]
     },
     "execution_count": 82,
     "metadata": {},
     "output_type": "execute_result"
    }
   ],
   "source": [
    "model_tune.fit(X_train, y_train, epochs=10, batch_size=32, validation_data=(X_test, y_test))"
   ]
  },
  {
   "cell_type": "code",
   "execution_count": 85,
   "id": "5888477e",
   "metadata": {},
   "outputs": [
    {
     "name": "stdout",
     "output_type": "stream",
     "text": [
      "8/8 [==============================] - 0s 13ms/step - loss: 0.6988 - accuracy: 0.4750\n",
      "Test Loss: 0.6988248825073242\n",
      "Test Accuracy: 0.4749999940395355\n"
     ]
    }
   ],
   "source": [
    "# Evaluate the model\n",
    "loss, accuracy = model_tune.evaluate(X_test, y_test)\n",
    "print(f\"Test Loss: {loss}\")\n",
    "print(f\"Test Accuracy: {accuracy}\")\n"
   ]
  },
  {
   "cell_type": "markdown",
   "id": "363b5d4c",
   "metadata": {},
   "source": [
    "#### Model Building with RandomForest"
   ]
  },
  {
   "cell_type": "code",
   "execution_count": 86,
   "id": "64296686",
   "metadata": {},
   "outputs": [],
   "source": [
    "rf = RandomForestClassifier(n_estimators=100, random_state=42)"
   ]
  },
  {
   "cell_type": "code",
   "execution_count": 87,
   "id": "f3237c4d",
   "metadata": {},
   "outputs": [
    {
     "data": {
      "text/html": [
       "<style>#sk-container-id-3 {color: black;}#sk-container-id-3 pre{padding: 0;}#sk-container-id-3 div.sk-toggleable {background-color: white;}#sk-container-id-3 label.sk-toggleable__label {cursor: pointer;display: block;width: 100%;margin-bottom: 0;padding: 0.3em;box-sizing: border-box;text-align: center;}#sk-container-id-3 label.sk-toggleable__label-arrow:before {content: \"▸\";float: left;margin-right: 0.25em;color: #696969;}#sk-container-id-3 label.sk-toggleable__label-arrow:hover:before {color: black;}#sk-container-id-3 div.sk-estimator:hover label.sk-toggleable__label-arrow:before {color: black;}#sk-container-id-3 div.sk-toggleable__content {max-height: 0;max-width: 0;overflow: hidden;text-align: left;background-color: #f0f8ff;}#sk-container-id-3 div.sk-toggleable__content pre {margin: 0.2em;color: black;border-radius: 0.25em;background-color: #f0f8ff;}#sk-container-id-3 input.sk-toggleable__control:checked~div.sk-toggleable__content {max-height: 200px;max-width: 100%;overflow: auto;}#sk-container-id-3 input.sk-toggleable__control:checked~label.sk-toggleable__label-arrow:before {content: \"▾\";}#sk-container-id-3 div.sk-estimator input.sk-toggleable__control:checked~label.sk-toggleable__label {background-color: #d4ebff;}#sk-container-id-3 div.sk-label input.sk-toggleable__control:checked~label.sk-toggleable__label {background-color: #d4ebff;}#sk-container-id-3 input.sk-hidden--visually {border: 0;clip: rect(1px 1px 1px 1px);clip: rect(1px, 1px, 1px, 1px);height: 1px;margin: -1px;overflow: hidden;padding: 0;position: absolute;width: 1px;}#sk-container-id-3 div.sk-estimator {font-family: monospace;background-color: #f0f8ff;border: 1px dotted black;border-radius: 0.25em;box-sizing: border-box;margin-bottom: 0.5em;}#sk-container-id-3 div.sk-estimator:hover {background-color: #d4ebff;}#sk-container-id-3 div.sk-parallel-item::after {content: \"\";width: 100%;border-bottom: 1px solid gray;flex-grow: 1;}#sk-container-id-3 div.sk-label:hover label.sk-toggleable__label {background-color: #d4ebff;}#sk-container-id-3 div.sk-serial::before {content: \"\";position: absolute;border-left: 1px solid gray;box-sizing: border-box;top: 0;bottom: 0;left: 50%;z-index: 0;}#sk-container-id-3 div.sk-serial {display: flex;flex-direction: column;align-items: center;background-color: white;padding-right: 0.2em;padding-left: 0.2em;position: relative;}#sk-container-id-3 div.sk-item {position: relative;z-index: 1;}#sk-container-id-3 div.sk-parallel {display: flex;align-items: stretch;justify-content: center;background-color: white;position: relative;}#sk-container-id-3 div.sk-item::before, #sk-container-id-3 div.sk-parallel-item::before {content: \"\";position: absolute;border-left: 1px solid gray;box-sizing: border-box;top: 0;bottom: 0;left: 50%;z-index: -1;}#sk-container-id-3 div.sk-parallel-item {display: flex;flex-direction: column;z-index: 1;position: relative;background-color: white;}#sk-container-id-3 div.sk-parallel-item:first-child::after {align-self: flex-end;width: 50%;}#sk-container-id-3 div.sk-parallel-item:last-child::after {align-self: flex-start;width: 50%;}#sk-container-id-3 div.sk-parallel-item:only-child::after {width: 0;}#sk-container-id-3 div.sk-dashed-wrapped {border: 1px dashed gray;margin: 0 0.4em 0.5em 0.4em;box-sizing: border-box;padding-bottom: 0.4em;background-color: white;}#sk-container-id-3 div.sk-label label {font-family: monospace;font-weight: bold;display: inline-block;line-height: 1.2em;}#sk-container-id-3 div.sk-label-container {text-align: center;}#sk-container-id-3 div.sk-container {/* jupyter's `normalize.less` sets `[hidden] { display: none; }` but bootstrap.min.css set `[hidden] { display: none !important; }` so we also need the `!important` here to be able to override the default hidden behavior on the sphinx rendered scikit-learn.org. See: https://github.com/scikit-learn/scikit-learn/issues/21755 */display: inline-block !important;position: relative;}#sk-container-id-3 div.sk-text-repr-fallback {display: none;}</style><div id=\"sk-container-id-3\" class=\"sk-top-container\"><div class=\"sk-text-repr-fallback\"><pre>RandomForestClassifier(random_state=42)</pre><b>In a Jupyter environment, please rerun this cell to show the HTML representation or trust the notebook. <br />On GitHub, the HTML representation is unable to render, please try loading this page with nbviewer.org.</b></div><div class=\"sk-container\" hidden><div class=\"sk-item\"><div class=\"sk-estimator sk-toggleable\"><input class=\"sk-toggleable__control sk-hidden--visually\" id=\"sk-estimator-id-3\" type=\"checkbox\" checked><label for=\"sk-estimator-id-3\" class=\"sk-toggleable__label sk-toggleable__label-arrow\">RandomForestClassifier</label><div class=\"sk-toggleable__content\"><pre>RandomForestClassifier(random_state=42)</pre></div></div></div></div></div>"
      ],
      "text/plain": [
       "RandomForestClassifier(random_state=42)"
      ]
     },
     "execution_count": 87,
     "metadata": {},
     "output_type": "execute_result"
    }
   ],
   "source": [
    "rf.fit(X_train, y_train)\n"
   ]
  },
  {
   "cell_type": "code",
   "execution_count": 88,
   "id": "0dae9747",
   "metadata": {},
   "outputs": [],
   "source": [
    "y_pred = rf.predict(X_test)"
   ]
  },
  {
   "cell_type": "code",
   "execution_count": 89,
   "id": "7d1fa312",
   "metadata": {},
   "outputs": [
    {
     "data": {
      "text/plain": [
       "0.9599999999999999"
      ]
     },
     "execution_count": 89,
     "metadata": {},
     "output_type": "execute_result"
    }
   ],
   "source": [
    "f1_score(y_test, y_pred)"
   ]
  },
  {
   "cell_type": "code",
   "execution_count": 90,
   "id": "648b451b",
   "metadata": {},
   "outputs": [
    {
     "data": {
      "text/plain": [
       "0.9625"
      ]
     },
     "execution_count": 90,
     "metadata": {},
     "output_type": "execute_result"
    }
   ],
   "source": [
    "accuracy_score(y_test, y_pred)"
   ]
  }
 ],
 "metadata": {
  "kernelspec": {
   "display_name": "Python 3",
   "language": "python",
   "name": "python3"
  },
  "language_info": {
   "codemirror_mode": {
    "name": "ipython",
    "version": 3
   },
   "file_extension": ".py",
   "mimetype": "text/x-python",
   "name": "python",
   "nbconvert_exporter": "python",
   "pygments_lexer": "ipython3",
   "version": "3.11.5"
  }
 },
 "nbformat": 4,
 "nbformat_minor": 5
}
